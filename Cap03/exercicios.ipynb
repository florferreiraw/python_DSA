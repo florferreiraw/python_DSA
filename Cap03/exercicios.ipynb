{
 "cells": [
  {
   "cell_type": "markdown",
   "id": "2f19712d",
   "metadata": {},
   "source": [
    "Código 1: CALCULAR A ÁREA DE UM PARALELOGRAMO"
   ]
  },
  {
   "cell_type": "code",
   "execution_count": 9,
   "id": "198502d8",
   "metadata": {
    "scrolled": false
   },
   "outputs": [
    {
     "name": "stdout",
     "output_type": "stream",
     "text": [
      "Bem-Vindo ao calculador de área de um paralelograma!\n",
      "Insira o comprimento da base:7\n",
      "Insira o valor da altura:7\n",
      "A área do paralelogramo é: 49.0 cm²\n"
     ]
    }
   ],
   "source": [
    "\n",
    "print('Bem-Vindo ao calculador de área de um paralelograma!')\n",
    "base = float(input('Insira o comprimento da base:'))\n",
    "altura = float(input('Insira o valor da altura:'))\n",
    "area = base * altura\n",
    "print('A área do paralelogramo é:', area, 'cm²')\n",
    "    "
   ]
  },
  {
   "cell_type": "markdown",
   "id": "c2ef0014",
   "metadata": {},
   "source": [
    "Código 2: CALCULADORA SIMPLES\n"
   ]
  },
  {
   "cell_type": "code",
   "execution_count": 46,
   "id": "851da3a9",
   "metadata": {},
   "outputs": [
    {
     "ename": "SyntaxError",
     "evalue": "invalid syntax (3876474295.py, line 22)",
     "output_type": "error",
     "traceback": [
      "\u001b[1;36m  File \u001b[1;32m\"C:\\Users\\franc\\AppData\\Local\\Temp\\ipykernel_7040\\3876474295.py\"\u001b[1;36m, line \u001b[1;32m22\u001b[0m\n\u001b[1;33m    git add .\u001b[0m\n\u001b[1;37m        ^\u001b[0m\n\u001b[1;31mSyntaxError\u001b[0m\u001b[1;31m:\u001b[0m invalid syntax\n"
     ]
    }
   ],
   "source": [
    "print('Bem-Vindo(a) à calculadora')\n",
    "n1 = float(input('Insira o número que deseja calcular:'))\n",
    "n2 = float(input('Insira outro:'))\n",
    "operaçao = input('Digite qual operação você deseja realizar dentre as opções: +, -, *, /')\n",
    "print('A operação a ser relizada é', operaçao)\n",
    "#minhas condições\n",
    "if operaçao == '-':\n",
    "    result1 = n1 - n2\n",
    "    print('O resultado é:', result1 )\n",
    "elif operaçao == '+':\n",
    "    result2 = n1 + n2\n",
    "    print('O resultado é:', result2 )\n",
    "elif operaçao == '*':\n",
    "    result3 = n1 * n2\n",
    "    print('O resultado é:', result3 )\n",
    "elif operaçao == '/':\n",
    "    result4 = n1 / n2\n",
    "    print('O resultado é:', result4 )\n",
    "\n",
    "else: print('Você deve escolher uma das opções indicadas!')\n",
    "    \n",
    "git add .\n",
    "git commit -m \"Commit inicial\"\n",
    "git remote add origin https://github.com/florferreiraw/python-analise.dados.git\n",
    "    git push -u origin master\n",
    "    \n"
   ]
  },
  {
   "cell_type": "code",
   "execution_count": null,
   "id": "17f03910",
   "metadata": {},
   "outputs": [],
   "source": []
  },
  {
   "cell_type": "code",
   "execution_count": null,
   "id": "31d7cf25",
   "metadata": {},
   "outputs": [],
   "source": []
  }
 ],
 "metadata": {
  "kernelspec": {
   "display_name": "Python 3 (ipykernel)",
   "language": "python",
   "name": "python3"
  },
  "language_info": {
   "codemirror_mode": {
    "name": "ipython",
    "version": 3
   },
   "file_extension": ".py",
   "mimetype": "text/x-python",
   "name": "python",
   "nbconvert_exporter": "python",
   "pygments_lexer": "ipython3",
   "version": "3.9.13"
  }
 },
 "nbformat": 4,
 "nbformat_minor": 5
}
