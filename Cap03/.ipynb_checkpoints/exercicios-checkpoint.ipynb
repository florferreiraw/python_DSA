{
 "cells": [
  {
   "cell_type": "markdown",
   "id": "fd6b1f71",
   "metadata": {},
   "source": [
    "Código 1: CALCULAR A ÁREA DE UM PARALELOGRAMO"
   ]
  },
  {
   "cell_type": "code",
   "execution_count": 9,
   "id": "d811d597",
   "metadata": {
    "scrolled": false
   },
   "outputs": [
    {
     "name": "stdout",
     "output_type": "stream",
     "text": [
      "Bem-Vindo ao calculador de área de um paralelograma!\n",
      "Insira o comprimento da base:7\n",
      "Insira o valor da altura:7\n",
      "A área do paralelogramo é: 49.0 cm²\n"
     ]
    }
   ],
   "source": [
    "\n",
    "print('Bem-Vindo ao calculador de área de um paralelograma!')\n",
    "base = float(input('Insira o comprimento da base:'))\n",
    "altura = float(input('Insira o valor da altura:'))\n",
    "area = base * altura\n",
    "print('A área do paralelogramo é:', area, 'cm²')\n",
    "    "
   ]
  },
  {
   "cell_type": "markdown",
   "id": "cfd6a6b0",
   "metadata": {},
   "source": [
    "Código 2: CALCULADORA SIMPLES\n"
   ]
  },
  {
   "cell_type": "code",
   "execution_count": 45,
   "id": "99f5b2e0",
   "metadata": {},
   "outputs": [
    {
     "name": "stdout",
     "output_type": "stream",
     "text": [
      "Bem-Vindo(a) à calculadora\n",
      "Insira o número que deseja calcular:4\n",
      "Insira outro:4\n",
      "Digite qual operação você deseja realizar dentre as opções: +, -, *, /-\n",
      "A operação a ser relizada é -\n",
      "O resultado é: 0.0\n"
     ]
    }
   ],
   "source": [
    "print('Bem-Vindo(a) à calculadora')\n",
    "n1 = float(input('Insira o número que deseja calcular:'))\n",
    "n2 = float(input('Insira outro:'))\n",
    "operaçao = input('Digite qual operação você deseja realizar dentre as opções: +, -, *, /')\n",
    "print('A operação a ser relizada é', operaçao)\n",
    "#minhas condições\n",
    "if operaçao == '-':\n",
    "    result1 = n1 - n2\n",
    "    print('O resultado é:', result1 )\n",
    "elif operaçao == '+':\n",
    "    result2 = n1 + n2\n",
    "    print('O resultado é:', result2 )\n",
    "elif operaçao == '*':\n",
    "    result3 = n1 * n2\n",
    "    print('O resultado é:', result3 )\n",
    "elif operaçao == '/':\n",
    "    result4 = n1 / n2\n",
    "    print('O resultado é:', result4 )\n",
    "\n",
    "else: print('Você deve escolher uma das opções indicadas!')\n",
    "    \n",
    "\n"
   ]
  },
  {
   "cell_type": "code",
   "execution_count": null,
   "id": "f9c50c82",
   "metadata": {},
   "outputs": [],
   "source": []
  }
 ],
 "metadata": {
  "kernelspec": {
   "display_name": "Python 3 (ipykernel)",
   "language": "python",
   "name": "python3"
  },
  "language_info": {
   "codemirror_mode": {
    "name": "ipython",
    "version": 3
   },
   "file_extension": ".py",
   "mimetype": "text/x-python",
   "name": "python",
   "nbconvert_exporter": "python",
   "pygments_lexer": "ipython3",
   "version": "3.9.13"
  }
 },
 "nbformat": 4,
 "nbformat_minor": 5
}
