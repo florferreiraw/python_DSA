{
 "cells": [
  {
   "cell_type": "markdown",
   "id": "eeb58ce0",
   "metadata": {},
   "source": [
    "# PANDAS"
   ]
  },
  {
   "cell_type": "code",
   "execution_count": null,
   "id": "eb6b390c",
   "metadata": {},
   "outputs": [],
   "source": [
    "!pip install -q pandas==1.5.3"
   ]
  },
  {
   "cell_type": "code",
   "execution_count": null,
   "id": "9b9344cc",
   "metadata": {},
   "outputs": [],
   "source": [
    "import pandas as pd\n",
    "pd.__version__"
   ]
  },
  {
   "cell_type": "code",
   "execution_count": null,
   "id": "94c7f5ac",
   "metadata": {},
   "outputs": [],
   "source": [
    "# Manipulando Dados em DataFrames do Pandas\n",
    "# Com o pandas a manipulação de dados é mais rápida e mais fácil, simplificando e agilizando o trabalho\n",
    "\n",
    "#CRIO UM DICIONÁRIO:\n",
    "dados = {'Estado': ['Santa Catarina', 'Rio de Janeiro', 'Tocantis', 'Bahia', 'Minas Gerais'],\n",
    "        'Ano': [2004, 2005, 2006, 2007, 2008],\n",
    "        'Taxa de Desemprego': [1.5, 1.7, 1.6, 2.4, 2.7]}\n",
    "print(dados, '\\n \\n')\n",
    "\n",
    "# importo a função dataframe do pandas:\n",
    "from pandas import DataFrame as daf\n",
    "# converto o dicionário criado em um dataframe:\n",
    "df = daf(dados)\n",
    "print(df)\n",
    "\n",
    "# VISUALIZANDO AS 5 PRIMEIRAS LINHAS, CONVERTIDO EM UMA TABELA QUE TEM LINHAS E COLUNAS:\n",
    "df.head()\n"
   ]
  },
  {
   "cell_type": "code",
   "execution_count": null,
   "id": "41941023",
   "metadata": {},
   "outputs": [],
   "source": [
    "# REORGANIZANDO A ORDEM DAS COLUNAS:\n",
    "daf(dados, columns = ['Estado', 'Taxa de Desemprego', 'Ano'])\n"
   ]
  },
  {
   "cell_type": "code",
   "execution_count": null,
   "id": "c7f05f17",
   "metadata": {},
   "outputs": [],
   "source": [
    "# CRIANDO OUTRO DATAFRAME COM OS MESMOS DADOS MAS ADICIONANDO UMA OUTRA COLUNA:\n",
    "df2 = daf(dados,\n",
    "         columns = ['Estado', 'Taxa de Desemprego', 'Taxa de Crescimento', 'Ano'],\n",
    "         index = ['Estado1', 'Estado2', 'Estado3', 'Estado4', 'Estado5'])\n",
    "df2"
   ]
  },
  {
   "cell_type": "code",
   "execution_count": null,
   "id": "9653cb4c",
   "metadata": {},
   "outputs": [],
   "source": [
    "print(df2.values, '\\n')\n",
    "print(df2.dtypes, '\\n')\n",
    "print(df2.columns, '\\n')"
   ]
  },
  {
   "cell_type": "code",
   "execution_count": null,
   "id": "2c080d01",
   "metadata": {},
   "outputs": [],
   "source": [
    "# Imprimindo apenas uma coluna do DataFrame:\n",
    "print(df2['Estado'], '\\n')\n",
    "print(df2[ ['Taxa de Desemprego', 'Ano'] ]) # dois colchetes\n",
    "\n",
    "#filtrando pelo índice\n",
    "df2.index\n",
    "df2.filter(items = ['Estado3'], axis = 0)"
   ]
  },
  {
   "cell_type": "markdown",
   "id": "a57bc012",
   "metadata": {},
   "source": [
    "# USANDO NUMPY E PANDAS"
   ]
  },
  {
   "cell_type": "code",
   "execution_count": null,
   "id": "ba5c71fc",
   "metadata": {},
   "outputs": [],
   "source": [
    "DF"
   ]
  },
  {
   "cell_type": "code",
   "execution_count": null,
   "id": "92cf7b49",
   "metadata": {},
   "outputs": [],
   "source": []
  }
 ],
 "metadata": {
  "kernelspec": {
   "display_name": "Python 3 (ipykernel)",
   "language": "python",
   "name": "python3"
  },
  "language_info": {
   "codemirror_mode": {
    "name": "ipython",
    "version": 3
   },
   "file_extension": ".py",
   "mimetype": "text/x-python",
   "name": "python",
   "nbconvert_exporter": "python",
   "pygments_lexer": "ipython3",
   "version": "3.9.13"
  }
 },
 "nbformat": 4,
 "nbformat_minor": 5
}
