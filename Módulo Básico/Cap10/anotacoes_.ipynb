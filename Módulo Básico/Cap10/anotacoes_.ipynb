{
 "cells": [
  {
   "cell_type": "markdown",
   "id": "154da426",
   "metadata": {},
   "source": [
    "# PANDAS"
   ]
  },
  {
   "cell_type": "code",
   "execution_count": null,
   "id": "eb6b390c",
   "metadata": {},
   "outputs": [],
   "source": [
    "!pip install -q pandas==1.5.3"
   ]
  },
  {
   "cell_type": "code",
   "execution_count": null,
   "id": "9b9344cc",
   "metadata": {},
   "outputs": [],
   "source": [
    "import pandas as pd\n",
    "pd.__version__"
   ]
  },
  {
   "cell_type": "code",
   "execution_count": null,
   "id": "94c7f5ac",
   "metadata": {},
   "outputs": [],
   "source": [
    "# Manipulando Dados em DataFrames do Pandas\n",
    "# Com o pandas a manipulação de dados é mais rápida e mais fácil, simplificando e agilizando o trabalho\n",
    "\n",
    "#CRIO UM DICIONÁRIO:\n",
    "dados = {'Estado': ['Santa Catarina', 'Rio de Janeiro', 'Tocantis', 'Bahia', 'Minas Gerais'],\n",
    "        'Ano': [2004, 2005, 2006, 2007, 2008],\n",
    "        'Taxa de Desemprego': [1.5, 1.7, 1.6, 2.4, 2.7]}\n",
    "print(dados, '\\n \\n')\n",
    "\n",
    "# importo a função dataframe do pandas:\n",
    "from pandas import DataFrame as daf\n",
    "# converto o dicionário criado em um dataframe:\n",
    "df = daf(dados)\n",
    "print(df)\n",
    "\n",
    "# VISUALIZANDO AS 5 PRIMEIRAS LINHAS, CONVERTIDO EM UMA TABELA QUE TEM LINHAS E COLUNAS:\n",
    "df.head()\n"
   ]
  },
  {
   "cell_type": "code",
   "execution_count": null,
   "id": "41941023",
   "metadata": {},
   "outputs": [],
   "source": [
    "# REORGANIZANDO A ORDEM DAS COLUNAS:\n",
    "daf(dados, columns = ['Estado', 'Taxa de Desemprego', 'Ano'])\n"
   ]
  },
  {
   "cell_type": "code",
   "execution_count": null,
   "id": "c7f05f17",
   "metadata": {},
   "outputs": [],
   "source": [
    "# CRIANDO OUTRO DATAFRAME COM OS MESMOS DADOS MAS ADICIONANDO UMA OUTRA COLUNA:\n",
    "df2 = daf(dados,\n",
    "         columns = ['Estado', 'Taxa de Desemprego', 'Taxa de Crescimento', 'Ano'],\n",
    "         index = ['Estado1', 'Estado2', 'Estado3', 'Estado4', 'Estado5'])\n",
    "df2"
   ]
  },
  {
   "cell_type": "code",
   "execution_count": null,
   "id": "9653cb4c",
   "metadata": {},
   "outputs": [],
   "source": [
    "print(df2.values, '\\n')\n",
    "print(df2.dtypes, '\\n')\n",
    "print(df2.columns, '\\n')"
   ]
  },
  {
   "cell_type": "code",
   "execution_count": null,
   "id": "2c080d01",
   "metadata": {},
   "outputs": [],
   "source": [
    "# Imprimindo apenas uma coluna do DataFrame:\n",
    "print(df2['Estado'], '\\n')\n",
    "print(df2[ ['Taxa de Desemprego', 'Ano'] ]) # dois colchetes\n",
    "\n",
    "#filtrando pelo índice\n",
    "df2.index\n",
    "df2.filter(items = ['Estado3'], axis = 0)"
   ]
  },
  {
   "cell_type": "markdown",
   "id": "8db30151",
   "metadata": {},
   "source": [
    "# USANDO NUMPY E PANDAS"
   ]
  },
  {
   "cell_type": "code",
   "execution_count": null,
   "id": "ba5c71fc",
   "metadata": {},
   "outputs": [],
   "source": [
    "df2.head()"
   ]
  },
  {
   "cell_type": "code",
   "execution_count": null,
   "id": "5315b3b2",
   "metadata": {},
   "outputs": [],
   "source": [
    "#resumo estatístico do DataFrame:\n",
    "df2.describe() #apenas de colunas do tipo numérico"
   ]
  },
  {
   "cell_type": "code",
   "execution_count": null,
   "id": "ce41a048",
   "metadata": {},
   "outputs": [],
   "source": [
    "print(df2.isna(), '\\n') #verificar se existe valor ausente - ausência de informação (Retorna valores booleanos)\n",
    "print(df2['Taxa de Crescimento'].isna()) #verificando por coluna \n"
   ]
  },
  {
   "cell_type": "code",
   "execution_count": null,
   "id": "d8c463ee",
   "metadata": {},
   "outputs": [],
   "source": [
    "import numpy as np\n",
    "\n",
    "#usando o numpy para alimentar uma das colunas do dataframe:\n",
    "df2['Taxa de Crescimento'] = np.arange(5.)\n",
    "print(df2, '\\n')\n",
    "print(df2['Taxa de Crescimento'].isna())"
   ]
  },
  {
   "cell_type": "code",
   "execution_count": null,
   "id": "f269f5fc",
   "metadata": {},
   "outputs": [],
   "source": [
    "# SLICING de DataFrames do Pandas: -fatiamento\n",
    "df2"
   ]
  },
  {
   "cell_type": "code",
   "execution_count": null,
   "id": "c6e77963",
   "metadata": {},
   "outputs": [],
   "source": [
    "df2['Estado2': 'Estado4'] # o 4 não é exclusivo, ou seja, ele entra no resultado"
   ]
  },
  {
   "cell_type": "code",
   "execution_count": null,
   "id": "7105ee5f",
   "metadata": {},
   "outputs": [],
   "source": [
    "df2[ df2['Taxa de Desemprego'] < 2 ] #a minha regra é que eu filtro o dataframe na coluna taxa de desemprego e puxo os vaores quue são menores que dois"
   ]
  },
  {
   "cell_type": "code",
   "execution_count": null,
   "id": "03e68927",
   "metadata": {},
   "outputs": [],
   "source": [
    "df2[ ['Estado', 'Taxa de Crescimento'] ]"
   ]
  },
  {
   "cell_type": "code",
   "execution_count": null,
   "id": "137f81b7",
   "metadata": {},
   "outputs": [],
   "source": [
    "# Preenchendo valores ausentes em dataframes no python:\n",
    "# a função fillna() é usada para preencher os valores ausentes\n",
    "# primeiro importamos um dataset:\n",
    "dsa_df = pd.read_csv('dataset.csv')\n",
    "dsa_df.head(5)"
   ]
  },
  {
   "cell_type": "code",
   "execution_count": null,
   "id": "3224da44",
   "metadata": {},
   "outputs": [],
   "source": [
    "dsa_df.isna().sum()"
   ]
  },
  {
   "cell_type": "code",
   "execution_count": null,
   "id": "5b96cd49",
   "metadata": {},
   "outputs": [],
   "source": [
    "#moda da coluna quantity\n",
    "moda = dsa_df['Quantidade'].value_counts().index[0]\n",
    "print(moda)\n",
    "\n",
    "#preenchenado os valores na com a moda:\n",
    "dsa_df['Quantidade'].fillna(value = moda, inplace = True) #inpace = True salva a alteração no dataframe, ao invés de fazer somente na cópia.\n",
    "dsa_df.isna().sum() # nao retorna mais os valores ausentes"
   ]
  },
  {
   "cell_type": "markdown",
   "id": "3dc2439a",
   "metadata": {},
   "source": [
    "# Consulta de dados no DataFrame do Pandas - QUERY:"
   ]
  },
  {
   "cell_type": "code",
   "execution_count": null,
   "id": "f1330ca6",
   "metadata": {},
   "outputs": [],
   "source": [
    "dsa_df.head()"
   ]
  },
  {
   "cell_type": "code",
   "execution_count": null,
   "id": "1d5dadef",
   "metadata": {},
   "outputs": [],
   "source": [
    "dsa_df.Valor_Venda.describe() #resumo estatístico do valor venda:"
   ]
  },
  {
   "cell_type": "code",
   "execution_count": null,
   "id": "a8edd487",
   "metadata": {},
   "outputs": [],
   "source": [
    "#geramos um novo dataframe apenas com o intervalo de vendas entre 229 e 10000\n",
    "df2 = dsa_df.query('299 < Valor_Venda < 10000')\n",
    "\n",
    "#então confirmamos os valores mínimos e máximos:\n",
    "df2.Valor_Venda.describe()\n",
    "\n",
    "#geramos um novo dataframe apenas com os valores de venda acima da média:\n",
    "df3 = df2.query('Valor_Venda > 766')"
   ]
  },
  {
   "cell_type": "code",
   "execution_count": null,
   "id": "95ca3214",
   "metadata": {},
   "outputs": [],
   "source": [
    "df3.head()"
   ]
  },
  {
   "cell_type": "code",
   "execution_count": null,
   "id": "fb5c8f77",
   "metadata": {},
   "outputs": [],
   "source": [
    "# VERIFICANDO A OCORRÊNCIA DE DIVERSOS VALORES EM UMA COLUNA:\n",
    "dsa_df.shape #retorna número de linhas e número de colunas"
   ]
  },
  {
   "cell_type": "code",
   "execution_count": null,
   "id": "1f012b3a",
   "metadata": {},
   "outputs": [],
   "source": [
    "dsa_df[dsa_df['Quantidade'].isin([5, 7, 9, 11])]"
   ]
  },
  {
   "cell_type": "code",
   "execution_count": null,
   "id": "d0bc7be7",
   "metadata": {},
   "outputs": [],
   "source": [
    "dsa_df[dsa_df['Quantidade'].isin([5, 7, 9, 11])].shape"
   ]
  },
  {
   "cell_type": "code",
   "execution_count": null,
   "id": "00f1b3d1",
   "metadata": {},
   "outputs": [],
   "source": [
    "dsa_df[dsa_df['Quantidade'].isin([5, 7, 9, 11])][:10]"
   ]
  },
  {
   "cell_type": "code",
   "execution_count": null,
   "id": "0044d9a1",
   "metadata": {},
   "outputs": [],
   "source": [
    "# Filtrando as vendas que ocorreram para o segmento de Home Office e na região South\n",
    "dsa_df[ (dsa_df.Segmento == 'Home Office') & (dsa_df.Regiao == 'South') ].head()"
   ]
  },
  {
   "cell_type": "code",
   "execution_count": null,
   "id": "d25c77ac",
   "metadata": {},
   "outputs": [],
   "source": [
    "# Filtrando as vendas que ocorreram para o segmento de Home Office ou região South\n",
    "dsa_df[(dsa_df.Segmento == 'Home Office') | (dsa_df.Regiao == 'South')].tail()"
   ]
  },
  {
   "cell_type": "code",
   "execution_count": null,
   "id": "efcdb570",
   "metadata": {},
   "outputs": [],
   "source": [
    "# Filtrando as vendas que não ocorreram para o segmento de Home Office e nem na região South\n",
    "dsa_df[(dsa_df.Segmento != 'Home Office') & (dsa_df.Regiao != 'South')].sample(5)"
   ]
  },
  {
   "cell_type": "code",
   "execution_count": null,
   "id": "19afa348",
   "metadata": {},
   "outputs": [],
   "source": [
    "# Agrupamento de Dados em DataFrame com Group By\n",
    "dsa_df[['Segmento', 'Regiao', 'Valor_Venda']].groupby(['Segmento', 'Regiao']).mean()"
   ]
  },
  {
   "cell_type": "code",
   "execution_count": null,
   "id": "58654cb7",
   "metadata": {},
   "outputs": [],
   "source": [
    "#Agregação múltipla:\n",
    "dsa_df[['Segmento', 'Regiao', 'Valor_Venda']].groupby(['Segmento', 'Regiao']).agg(['mean', 'std', 'count'])"
   ]
  },
  {
   "cell_type": "code",
   "execution_count": null,
   "id": "b81b5708",
   "metadata": {},
   "outputs": [],
   "source": [
    "#filtrando dataframe com base em strings:\n",
    "dsa_df.head()"
   ]
  },
  {
   "cell_type": "code",
   "execution_count": null,
   "id": "64353d11",
   "metadata": {},
   "outputs": [],
   "source": [
    "dsa_df[dsa_df.Segmento.str.startswith('Con')].head()"
   ]
  },
  {
   "cell_type": "markdown",
   "id": "d8ee1712",
   "metadata": {},
   "source": [
    "# Gráficos a partir do pandas:"
   ]
  },
  {
   "cell_type": "code",
   "execution_count": null,
   "id": "ffabcf7b",
   "metadata": {},
   "outputs": [],
   "source": [
    "!pip install -q scikit-learn==1.2.1\n",
    "import sklearn\n",
    "sklearn.__version__\n",
    "from sklearn.datasets import load_iris\n",
    "data = load_iris()\n",
    "import pandas as pd"
   ]
  },
  {
   "cell_type": "code",
   "execution_count": null,
   "id": "f6ab1a07",
   "metadata": {},
   "outputs": [],
   "source": [
    "df = pd.DataFrame(data['data'], columns = data['feature_names'])\n",
    "df['species'] = data['target']\n",
    "df.head()"
   ]
  },
  {
   "cell_type": "code",
   "execution_count": null,
   "id": "0b042c21",
   "metadata": {},
   "outputs": [],
   "source": [
    "# para criar o gráfico:\n",
    "df.plot()"
   ]
  },
  {
   "cell_type": "code",
   "execution_count": null,
   "id": "78b03d11",
   "metadata": {},
   "outputs": [],
   "source": [
    "# Scatter plot com duas variáveis:\n",
    "df.plot.scatter(x = 'sepal length (cm)', y = 'sepal width (cm)')"
   ]
  },
  {
   "cell_type": "code",
   "execution_count": null,
   "id": "41851d1b",
   "metadata": {},
   "outputs": [],
   "source": [
    "# E mesmo gráficos mais complexos, como um gráfico de área, pode ser criado:\n",
    "columns = ['sepal length (cm)', 'petal length (cm)', 'petal width (cm)', 'sepal width (cm)']\n",
    "df[columns].plot.area()"
   ]
  },
  {
   "cell_type": "code",
   "execution_count": null,
   "id": "4753aee2",
   "metadata": {},
   "outputs": [],
   "source": [
    "# Calculamos a média das colunas agrupando pela coluna species e criamos um gráfico de barras com o resultado\n",
    "df.groupby('species').mean().plot.bar()"
   ]
  },
  {
   "cell_type": "code",
   "execution_count": null,
   "id": "c5d8535f",
   "metadata": {},
   "outputs": [],
   "source": [
    "# Ou então, fazemos a contagem de classes da coluna species e plotamos em um gráfico de pizza\n",
    "df.groupby('species').count().plot.pie(y = 'sepal length (cm)')"
   ]
  },
  {
   "cell_type": "code",
   "execution_count": null,
   "id": "16080bd2",
   "metadata": {},
   "outputs": [],
   "source": [
    "# Gráfico KDE (Kernel Density Function) para cada variável do dataframe\n",
    "df.plot.kde(subplots = True, figsize = (8,8))"
   ]
  },
  {
   "cell_type": "code",
   "execution_count": null,
   "id": "89983f71",
   "metadata": {},
   "outputs": [],
   "source": []
  }
 ],
 "metadata": {
  "kernelspec": {
   "display_name": "Python 3 (ipykernel)",
   "language": "python",
   "name": "python3"
  },
  "language_info": {
   "codemirror_mode": {
    "name": "ipython",
    "version": 3
   },
   "file_extension": ".py",
   "mimetype": "text/x-python",
   "name": "python",
   "nbconvert_exporter": "python",
   "pygments_lexer": "ipython3",
   "version": "3.9.13"
  }
 },
 "nbformat": 4,
 "nbformat_minor": 5
}
