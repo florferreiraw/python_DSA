{
 "cells": [
  {
   "cell_type": "code",
   "execution_count": 15,
   "id": "431a779b",
   "metadata": {},
   "outputs": [
    {
     "name": "stdout",
     "output_type": "stream",
     "text": [
      "Construtor chamado para criar um objeto desta classe\n",
      "Este é o livro: \"Lorena Ferreira, uma história inspiradora\" e seu ISBN é 77886611\n"
     ]
    }
   ],
   "source": [
    "class Livro():\n",
    "    \n",
    "    def __init__(self, titulo, isbn):\n",
    "        self.titulo = titulo\n",
    "        self.isbn = isbn\n",
    "        print('Construtor chamado para criar um objeto desta classe')\n",
    "    \n",
    "    def imprimir(self, titulo, isbn):\n",
    "        print('Este é o livro: \"%s\" e seu ISBN é %d' %(titulo, isbn))\n",
    "        \n",
    "Livro2 = Livro('Lorena Ferreira, uma história inspiradora', 77886611)\n",
    "Livro2.titulo\n",
    "Livro2.imprimir('Lorena Ferreira, uma história inspiradora', 77886611)"
   ]
  },
  {
   "cell_type": "code",
   "execution_count": 18,
   "id": "45b6986f",
   "metadata": {},
   "outputs": [
    {
     "name": "stdout",
     "output_type": "stream",
     "text": [
      "Construtor chamado para criar um objeto desta classe\n",
      "Construtor chamado para criar um objeto desta classe\n"
     ]
    },
    {
     "data": {
      "text/plain": [
       "'Deep Learning'"
      ]
     },
     "execution_count": 18,
     "metadata": {},
     "output_type": "execute_result"
    }
   ],
   "source": [
    "class Algoritmo():\n",
    "    def __init__(self, algo):\n",
    "        self.tipo = algo\n",
    "        print('Construtor chamado para criar um objeto desta classe')\n",
    "algo1 = Algoritmo(algo = 'Random Forest')\n",
    "algo2 = Algoritmo(algo = 'Deep Learning')\n",
    "algo1.tipo\n",
    "algo2.tipo"
   ]
  },
  {
   "cell_type": "code",
   "execution_count": null,
   "id": "544b0eef",
   "metadata": {},
   "outputs": [],
   "source": []
  }
 ],
 "metadata": {
  "kernelspec": {
   "display_name": "Python 3 (ipykernel)",
   "language": "python",
   "name": "python3"
  },
  "language_info": {
   "codemirror_mode": {
    "name": "ipython",
    "version": 3
   },
   "file_extension": ".py",
   "mimetype": "text/x-python",
   "name": "python",
   "nbconvert_exporter": "python",
   "pygments_lexer": "ipython3",
   "version": "3.9.13"
  }
 },
 "nbformat": 4,
 "nbformat_minor": 5
}
