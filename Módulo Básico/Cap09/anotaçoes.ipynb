{
 "cells": [
  {
   "cell_type": "code",
   "execution_count": null,
   "id": "b39b513e",
   "metadata": {},
   "outputs": [],
   "source": [
    "import numpy as dsa"
   ]
  },
  {
   "cell_type": "code",
   "execution_count": null,
   "id": "6933c75a",
   "metadata": {},
   "outputs": [],
   "source": [
    "# FUNÇÕES NUMPY\n",
    "import numpy as dsa\n",
    "arr1 = dsa.array([1, 2, 3, 4, 5])\n",
    "print(arr1)\n",
    "type(arr1) #nd é numero de dimensões\n",
    "\n",
    "arr1 = dsa.arange(0, 50, 5) #cria uma lista de 0 à 50 pulando de 5 em 5\n",
    "print(arr1)\n",
    "dsa.shape(arr1)\n",
    "print(arr1.dtype)"
   ]
  },
  {
   "cell_type": "code",
   "execution_count": null,
   "id": "69347b34",
   "metadata": {},
   "outputs": [],
   "source": [
    "#CRIA UM ARRAY PREENCHIDOS COM ZEROS:\n",
    "arr2 = dsa.zeros(20)\n",
    "print(arr2)\n",
    "# Isso possui diversas utilidades na análise de dados.\n",
    "#RETORNA 1 NAS POSIÇÕES EM DIAGONAL E 0 NO RESTANTE:\n",
    "arr3 = dsa.eye(3) #eye é olho em ptbr\n",
    "print(arr3, '\\n')\n",
    "arr4 = dsa.eye(4)\n",
    "print(arr4, '\\n')\n",
    "# RETORNAR NAS POSIÇÕES EM DIAGONAL OS VALORES PASSADOS COMO PARÂMETRO\n",
    "arr5 = dsa.diag(dsa.array([1, 2, 3, 4, 5]))\n",
    "print(arr5)\n",
    "\n",
    "#ARRAY COM VALORES BOOLEANOS:\n",
    "arr6 = dsa.array([True, False, True, True, True, False, True, False,])\n",
    "print(arr6, '\\n')\n",
    "#ARRAY COM STRINGS:\n",
    "arr7 = dsa.array(['Linguagem de programação', 'Programação', 'Computadores'])\n",
    "print(arr7)"
   ]
  },
  {
   "cell_type": "code",
   "execution_count": null,
   "id": "35e5d0f2",
   "metadata": {},
   "outputs": [],
   "source": [
    "#FUNÇÃO LINSPACE(): no numpy é usada para criar sequências de números\n",
    "# igualmente espaçadas dentro de um intervalo específico.\n",
    "print(dsa.linspace(0, 10), '\\n')\n",
    "print(dsa.linspace(0, 2), '\\n')\n",
    "\n",
    "#FUNÇÃO LOGSPACE(): no numpy é usada para criar uma sequência de números\n",
    "# igualmente espaçados em escala logarítimica dentro de um intervalo específico.\n",
    "print(dsa.logspace(0, 5, 10))"
   ]
  },
  {
   "cell_type": "code",
   "execution_count": null,
   "id": "478beebc",
   "metadata": {},
   "outputs": [],
   "source": [
    "#MANIPULANDO MATRIZES \n",
    "#criando uma matriz:\n",
    "arr8 = dsa.array( [ [1,2,3] , [4,5,6] ] )\n",
    "# type(arr8)\n",
    "print(arr8)\n",
    "print(arr8.shape, '\\n') #comprova que são duas dimensões, duas linhas e três colunas\n",
    "\n",
    "#Criando uma matriz 2 x 3 apenas com o valor 1:\n",
    "arr9 = dsa.ones((2,3))\n",
    "print(arr9, '\\n')\n",
    "\n",
    "#lista de listas:\n",
    "lista = [ [1,3,2], [3,7,8], [3,7,8], [9,5,4] ]\n",
    "#A FUNÇÃO MATRIX CRIA UMA MATRIX A PARTIR DE UMA LISTA DE LISTAS:\n",
    "arr10 = dsa.matrix(lista)\n",
    "print(arr10)\n",
    "#formato da matriz:\n",
    "dsa.shape(arr10)\n",
    "#tamanho da matriz\n",
    "arr10.size\n",
    "\n",
    "#INDEXAÇÃO DA MATRIZ\n",
    "arr10[2,1] #lembrando que indexação em python incicia por 0\n",
    "arr10[0:2,2]\n",
    "arr10[1, ]\n",
    "# Alterando um elemento na matriz:\n",
    "arr10[1, 0] = 8\n",
    "print(arr10)"
   ]
  },
  {
   "cell_type": "code",
   "execution_count": null,
   "id": "aa4dabdb",
   "metadata": {},
   "outputs": [],
   "source": [
    "# FORÇAR O TIPO DE DADOS (se você não específica, o numpy tenta inferir)\n",
    "x = dsa.array([1, 2]) #numpy decide o type\n",
    "y = dsa.array([1.0, 2.0]) #numpy decide o type\n",
    "z = dsa.array([1, 2], dtype = dsa.float64) # forçamos um tipo de dado em particular\n",
    "print(x.dtype, y.dtype, z.dtype)"
   ]
  },
  {
   "cell_type": "code",
   "execution_count": null,
   "id": "4de9845c",
   "metadata": {},
   "outputs": [],
   "source": [
    "# O ITEMSIZE DE UM ARRAY NUMPY: Ele retorna o tamanho em bytes de cada elemento do array.\n",
    "# arr10.itemsize\n",
    "# arr10.nbytes"
   ]
  },
  {
   "cell_type": "code",
   "execution_count": null,
   "id": "77769f7b",
   "metadata": {},
   "outputs": [],
   "source": [
    "#MANIPULANDO OBJETOS DE 3 E 4 DIMENSÕES COM NUMPY (3D e 4D)\n",
    "#criando um array numpy de 3 dimenões:\n",
    "arr_3d = dsa.array([\n",
    "    [\n",
    "        [1, 2, 3, 4],\n",
    "        [5, 6, 7, 8],\n",
    "        [9, 10, 11, 12]\n",
    "    ],\n",
    "    [\n",
    "        [13, 14, 15, 16],\n",
    "        [17, 18, 19, 20],\n",
    "        [21, 22, 23, 24]\n",
    "    ]\n",
    "])\n",
    "print(arr_3d, '\\n')\n",
    "arr_3d.ndim\n",
    "arr_3d.shape\n",
    "\n",
    "arr_4d = dsa.array([\n",
    "    [\n",
    "        [\n",
    "            [1, 2, 3, 4, 5],\n",
    "            [6, 7, 8, 9, 10],\n",
    "            [11, 12, 13, 14, 15],\n",
    "            [16, 17, 18, 19, 20]\n",
    "        ],\n",
    "        [\n",
    "            [21, 22, 23, 24, 25],\n",
    "            [26, 27, 28, 29, 20],\n",
    "            [31, 32, 33, 34, 35],\n",
    "            [36, 37, 38, 39, 40]\n",
    "        ],\n",
    "        [\n",
    "            [41, 42, 43, 44, 45],\n",
    "            [46, 47, 48, 49, 50],\n",
    "            [51, 52, 53, 54, 55],\n",
    "            [56, 57, 58, 59, 60]\n",
    "        ]\n",
    "    ],\n",
    "    [\n",
    "        [\n",
    "            [61, 62, 63, 64, 65],\n",
    "            [66, 67, 68, 69, 70],\n",
    "            [71, 72, 73, 74, 75],\n",
    "            [76, 77, 78, 79, 80]\n",
    "        ],\n",
    "        [\n",
    "            [81, 82, 83, 84, 85],\n",
    "            [86, 87, 88, 89, 90],\n",
    "            [91,92, 93, 94, 95],\n",
    "            [96, 97, 98, 99, 100]\n",
    "        ],\n",
    "        [\n",
    "            [101, 102, 103, 104, 105],\n",
    "            [106, 107, 108, 109, 110],\n",
    "            [111, 112, 113, 114, 115],\n",
    "            [116, 117, 118, 119, 120]\n",
    "        ]\n",
    "    ]\n",
    "])\n",
    "print(arr_4d)\n",
    "arr_4d.ndim\n",
    "arr_4d.shape\n"
   ]
  },
  {
   "cell_type": "code",
   "execution_count": null,
   "id": "276babe4",
   "metadata": {},
   "outputs": [],
   "source": [
    "#ARQUIVOS:\n",
    "import os\n",
    "filename = os.path.join('Notebooks/dataset.csv')\n",
    "!more dataset.csv #para usuários windows - comando de OS \n",
    "#!head dataset.csv para users linux ou Mac\n",
    "\n",
    "#carregando um dataset para dentro de um array:\n",
    "arr12 = dsa.loadtxt(filename, delimiter = ',', usecols = (0, 1 , 2, 3), skiprows = 1)\n",
    "print(arr12)\n",
    "\n",
    "#carregando apenas duas colunas do conjunto de dados:\n",
    "var1, var2 = dsa.loadtxt(filename, delimiter = ',', usecols = (0,1), skiprows = 1, unpack = True)\n"
   ]
  },
  {
   "cell_type": "code",
   "execution_count": null,
   "id": "7ef5d4b7",
   "metadata": {},
   "outputs": [],
   "source": [
    "#gerando um plot a partir de um arquivo usando numpy\n",
    "import matplotlib.pyplot as plt #uma biblioteca gráfica para a linguagem python\n",
    "plt.show(plt.plot(var1, var2, 'o', markersize = 6, color = 'red')) #o é o símbolo, 6 é tamanho, e red a cor\n"
   ]
  },
  {
   "cell_type": "raw",
   "id": "59c7ee48",
   "metadata": {},
   "source": []
  },
  {
   "cell_type": "code",
   "execution_count": null,
   "id": "84ef7bb6",
   "metadata": {},
   "outputs": [],
   "source": [
    "#DESVIO PADRÃO. \n",
    "arr14 = dsa.array([15, 34, 54, 23, 65])\n",
    "print(dsa.mean(arr14))\n",
    "\n",
    "# O desvio padrão é uma medida estatística de dispersão que indica o quanto os valores de um conjunto\n",
    "# de dados se afastam da média.\n",
    "# DESVIO PADRÃO (Standard Deviation):\n",
    "print(dsa.std(arr14))\n",
    "\n",
    "#VARIÂNCIA:\n",
    "# É uma medida estatística que quantifica a dispersão dos valores em um conjunto de dados em relação à média.\n",
    "dsa.var(arr14)\n"
   ]
  },
  {
   "cell_type": "code",
   "execution_count": null,
   "id": "f23e0e87",
   "metadata": {},
   "outputs": [],
   "source": [
    "#SLICING - FATIAMENTO DE ARRAYS NUMPY\n",
    "arr15 = dsa.diag(dsa.arange(3))\n",
    "print(arr15)"
   ]
  },
  {
   "cell_type": "code",
   "execution_count": null,
   "id": "5c3a720e",
   "metadata": {},
   "outputs": [],
   "source": [
    "#fatiando esse array usando a notação de índice:\n",
    "print(arr15[1, 1])\n",
    "print(arr15[1])\n",
    "print(arr15[:, 2]) #retona uma coluna inteira, esse dois pontos quer dizer que linha pode ser qualquer coisa"
   ]
  },
  {
   "cell_type": "code",
   "execution_count": null,
   "id": "77bf8f1a",
   "metadata": {},
   "outputs": [],
   "source": [
    "arr16 = dsa.arange(10)\n",
    "print(arr16)\n",
    "#[start:end:step]\n",
    "arr16[2:9:3] #tudo o que estiver entre 2 e 9 saltando d 3 em 3\n",
    "print(arr16[2:9:3])\n",
    "\n",
    "#criar 2 arrays\n",
    "a = dsa.array([1, 2, 3, 4])\n",
    "b = dsa.array([4, 2, 2, 4])\n",
    "#comparação intem à item:\n",
    "print(a == b)\n",
    "#comparação GLOBAL:\n",
    "dsa.array_equal(arr15, arr16)\n",
    "\n",
    "#também posso fatiar um array retornando o valor mín ou máx:\n",
    "arr15.min\n",
    "arr15.max\n",
    "\n",
    "#também posso somar um valor a cada elemento do array:\n",
    "arr17 = dsa.array([1, 2, 3, 4]) + 2 \n",
    "print(arr17)\n",
    "\n",
    "arr18 = dsa.array([1.2, 1.5, 1.6, 2.5, 3.5, 4.5])\n",
    "print(arr18)\n",
    "#usando o método around:\n",
    "arr19 = dsa.around(arr18) # serve para arredondar os valores desse array:\n",
    "print(arr19)"
   ]
  },
  {
   "cell_type": "code",
   "execution_count": null,
   "id": "0bd7443c",
   "metadata": {},
   "outputs": [],
   "source": [
    "# MÉTODO FLANTTEN() com numpy é usado para criar uma cópia unidimensional (ou \"achatada\") de um array multidimensional\n",
    "# Isso significa que o método cria um novo array unidimensional, que contém todos os elementos do array multidimensional original, mas que está organizado em uma única linha.\n",
    "# A ordem dos elementos no array unidimensional segue a ordem dos elementos no array multidimensional original.\n",
    "\n",
    "# CRIANDO UM ARRAY:\n",
    "arr20 = dsa.array([ [1, 2, 3, 4], [5, 6, 7, 8] ])\n",
    "print(arr20)\n",
    "# ACHATANDO A MATRIZ:\n",
    "arr21 = arr20.flatten()\n",
    "print(arr21)"
   ]
  },
  {
   "cell_type": "code",
   "execution_count": null,
   "id": "1aa4d481",
   "metadata": {},
   "outputs": [],
   "source": [
    "# REPETINDO OS ELEMENTOS DO ARRAY:\n",
    "arr22 = dsa.array([1, 2, 3])\n",
    "print(arr22)\n",
    "print(dsa.repeat(arr22, 3)) #cada número repete 3 vezes REPEAT É REPETIR\n",
    "print(dsa.tile(arr22, 3), '\\n') # cada combinação repete 3 vezes TILE SERIA COMO LADRILHO \n",
    "\n",
    "# FAZENDO A CÓPIA DE UM ARRAY:\n",
    "arr23 = dsa.copy(arr22)\n",
    "print(arr23)"
   ]
  },
  {
   "cell_type": "code",
   "execution_count": null,
   "id": "29ccf254",
   "metadata": {},
   "outputs": [],
   "source": []
  },
  {
   "cell_type": "code",
   "execution_count": null,
   "id": "76ab41c6",
   "metadata": {},
   "outputs": [],
   "source": []
  }
 ],
 "metadata": {
  "kernelspec": {
   "display_name": "Python 3 (ipykernel)",
   "language": "python",
   "name": "python3"
  },
  "language_info": {
   "codemirror_mode": {
    "name": "ipython",
    "version": 3
   },
   "file_extension": ".py",
   "mimetype": "text/x-python",
   "name": "python",
   "nbconvert_exporter": "python",
   "pygments_lexer": "ipython3",
   "version": "3.11.5"
  }
 },
 "nbformat": 4,
 "nbformat_minor": 5
}
