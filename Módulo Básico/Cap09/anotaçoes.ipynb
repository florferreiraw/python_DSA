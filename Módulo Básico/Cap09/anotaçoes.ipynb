{
 "cells": [
  {
   "cell_type": "code",
   "execution_count": 1,
   "id": "f2a9a8f6",
   "metadata": {},
   "outputs": [],
   "source": [
    "import numpy as dsa"
   ]
  },
  {
   "cell_type": "code",
   "execution_count": null,
   "id": "7fcd92f6",
   "metadata": {},
   "outputs": [],
   "source": [
    "# FUNÇÕES NUMPY\n",
    "import numpy as dsa\n",
    "arr1 = dsa.array([1, 2, 3, 4, 5])\n",
    "print(arr1)\n",
    "type(arr1) #nd é numero de dimensões\n",
    "\n",
    "arr1 = dsa.arange(0, 50, 5) #cria uma lista de 0 à 50 pulando de 5 em 5\n",
    "print(arr1)\n",
    "dsa.shape(arr1)\n",
    "print(arr1.dtype)"
   ]
  },
  {
   "cell_type": "code",
   "execution_count": null,
   "id": "fef029ff",
   "metadata": {},
   "outputs": [],
   "source": [
    "#CRIA UM ARRAY PREENCHIDOS COM ZEROS:\n",
    "arr2 = dsa.zeros(20)\n",
    "print(arr2)\n",
    "# Isso possui diversas utilidades na análise de dados.\n",
    "#RETORNA 1 NAS POSIÇÕES EM DIAGONAL E 0 NO RESTANTE:\n",
    "arr3 = dsa.eye(3) #eye é olho em ptbr\n",
    "print(arr3, '\\n')\n",
    "arr4 = dsa.eye(4)\n",
    "print(arr4, '\\n')\n",
    "# RETORNAR NAS POSIÇÕES EM DIAGONAL OS VALORES PASSADOS COMO PARÂMETRO\n",
    "arr5 = dsa.diag(dsa.array([1, 2, 3, 4, 5]))\n",
    "print(arr5)\n",
    "\n",
    "#ARRAY COM VALORES BOOLEANOS:\n",
    "arr6 = dsa.array([True, False, True, True, True, False, True, False,])\n",
    "print(arr6, '\\n')\n",
    "#ARRAY COM STRINGS:\n",
    "arr7 = dsa.array(['Linguagem de programação', 'Programação', 'Computadores'])\n",
    "print(arr7)"
   ]
  },
  {
   "cell_type": "code",
   "execution_count": null,
   "id": "7712dc9b",
   "metadata": {},
   "outputs": [],
   "source": [
    "#FUNÇÃO LINSPACE(): no numpy é usada para criar sequências de números\n",
    "# igualmente espaçadas dentro de um intervalo específico.\n",
    "print(dsa.linspace(0, 10), '\\n')\n",
    "print(dsa.linspace(0, 2), '\\n')\n",
    "\n",
    "#FUNÇÃO LOGSPACE(): no numpy é usada para criar uma sequência de números\n",
    "# igualmente espaçados em escala logarítimica dentro de um intervalo específico.\n",
    "print(dsa.logspace(0, 5, 10))"
   ]
  },
  {
   "cell_type": "code",
   "execution_count": null,
   "id": "23cab704",
   "metadata": {},
   "outputs": [],
   "source": [
    "#MANIPULANDO MATRIZES \n",
    "#criando uma matriz:\n",
    "arr8 = dsa.array( [ [1,2,3] , [4,5,6] ] )\n",
    "# type(arr8)\n",
    "print(arr8)\n",
    "print(arr8.shape, '\\n') #comprova que são duas dimensões, duas linhas e três colunas\n",
    "\n",
    "#Criando uma matriz 2 x 3 apenas com o valor 1:\n",
    "arr9 = dsa.ones((2,3))\n",
    "print(arr9, '\\n')\n",
    "\n",
    "#lista de listas:\n",
    "lista = [ [1,3,2], [3,7,8], [3,7,8], [9,5,4] ]\n",
    "#A FUNÇÃO MATRIX CRIA UMA MATRIX A PARTIR DE UMA LISTA DE LISTAS:\n",
    "arr10 = dsa.matrix(lista)\n",
    "print(arr10)\n",
    "#formato da matriz:\n",
    "dsa.shape(arr10)\n",
    "#tamanho da matriz\n",
    "arr10.size\n",
    "\n",
    "#INDEXAÇÃO DA MATRIZ\n",
    "arr10[2,1] #lembrando que indexação em python incicia por 0\n",
    "arr10[0:2,2]\n",
    "arr10[1, ]\n",
    "# Alterando um elemento na matriz:\n",
    "arr10[1, 0] = 8\n",
    "print(arr10)"
   ]
  },
  {
   "cell_type": "code",
   "execution_count": 3,
   "id": "bb426df0",
   "metadata": {},
   "outputs": [
    {
     "name": "stdout",
     "output_type": "stream",
     "text": [
      "int32 float64 float64\n"
     ]
    }
   ],
   "source": [
    "# FORÇAR O TIPO DE DADOS (se você não específica, o numpy tenta inferir)\n",
    "x = dsa.array([1, 2]) #numpy decide o type\n",
    "y = dsa.array([1.0, 2.0]) #numpy decide o type\n",
    "z = dsa.array([1, 2], dtype = dsa.float64) # forçamos um tipo de dado em particular\n",
    "print(x.dtype, y.dtype, z.dtype)"
   ]
  },
  {
   "cell_type": "code",
   "execution_count": 4,
   "id": "d690257b",
   "metadata": {},
   "outputs": [],
   "source": [
    "# O ITEMSIZE DE UM ARRAY NUMPY: Ele retorna o tamanho em bytes de cada elemento do array.\n",
    "# arr10.itemsize\n",
    "# arr10.nbytes"
   ]
  },
  {
   "cell_type": "code",
   "execution_count": null,
   "id": "9a83dbb0",
   "metadata": {},
   "outputs": [],
   "source": [
    "#MANIPULANDO OBJETOS DE 3 E 4 DIMENSÕES COM NUMPY \n"
   ]
  }
 ],
 "metadata": {
  "kernelspec": {
   "display_name": "Python 3 (ipykernel)",
   "language": "python",
   "name": "python3"
  },
  "language_info": {
   "codemirror_mode": {
    "name": "ipython",
    "version": 3
   },
   "file_extension": ".py",
   "mimetype": "text/x-python",
   "name": "python",
   "nbconvert_exporter": "python",
   "pygments_lexer": "ipython3",
   "version": "3.9.13"
  }
 },
 "nbformat": 4,
 "nbformat_minor": 5
}
