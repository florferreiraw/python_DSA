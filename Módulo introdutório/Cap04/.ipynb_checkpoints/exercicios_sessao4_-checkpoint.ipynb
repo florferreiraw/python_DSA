{
 "cells": [
  {
   "cell_type": "code",
   "execution_count": null,
   "id": "34feede3",
   "metadata": {},
   "outputs": [],
   "source": [
    "# Exercício 1 - Imprima na tela os números de 1 a 10. Use uma lista para armazenar os números.\n",
    "lista1 = [1, 2, 3, 4, 5, 6, 7, 8, 9, 10]\n",
    "#posso mostrar essa lista na tela de duas maneiras diferentes\n",
    "print(lista1)\n",
    "#ou\n",
    "lista1"
   ]
  },
  {
   "cell_type": "code",
   "execution_count": null,
   "id": "5f4e564f",
   "metadata": {},
   "outputs": [],
   "source": [
    "# Exercício 2 - Crie uma lista de 5 objetos e imprima na tela\n",
    "lista2 = ['bolsa, caderno, lápis, caneta, borracha']\n",
    "print(lista2)\n",
    "lista2"
   ]
  },
  {
   "cell_type": "code",
   "execution_count": null,
   "id": "58ff0873",
   "metadata": {},
   "outputs": [],
   "source": [
    "# Exercício 3 - Crie duas strings e concatene as duas em uma terceira string\n",
    "nome = input('Digite o seu nome:')\n",
    "sobrenome = input('Digite o seu sobrenome')\n",
    "fullname = nome + ' ' + sobrenome\n",
    "print(fullname)\n",
    "#ou\n",
    "fullname\n",
    "#são duas maneiras de imprimir na tela o valor da variável e questão\n",
    "\n",
    "\n",
    "#Brincando com indexação de strings\n",
    "n = fullname \n",
    "#primeiro elemento da string:\n",
    "n[0]\n",
    "#sétimo elemento da string:\n",
    "n[6]\n",
    "print(n[0]+n[6])\n",
    "#tudo a partir do índice 6:\n",
    "aPartir = n[6:]\n",
    "#tudo antes do índice 6:\n",
    "antes = n[:6]\n",
    "\n",
    "conc = aPartir + ' ' + antes\n",
    "cnoc = antes + ' ' + aPartir\n",
    "\n",
    "print(conc)\n",
    "print(cnoc)\n",
    "\n",
    "#concatenando string\n",
    "n + ' é uma pessoa muito amada'\n",
    "\n",
    "#usando operadores aritméticos com strings \n",
    "mult1 = n * 3\n",
    "print(mult1)\n",
    "\n",
    "novaSt = 'w'\n",
    "mult2 = novaSt * 2\n",
    "print(mult2)\n",
    "\n",
    "#minha string permanece intacta, mesmo após fazer indexações:\n",
    "print(n)\n"
   ]
  },
  {
   "cell_type": "code",
   "execution_count": null,
   "id": "52a6cbbe",
   "metadata": {},
   "outputs": [],
   "source": [
    "# Exercício 4 - Crie uma tupla com os seguintes elementos: 1, 2, 2, 3, 4, 4, 4, 5 e depois utilize a função count do \n",
    "# objeto tupla para verificar quantas vezes o número 4 aparece na tupla\n",
    "tupla_1 = (1, 2, 2, 3, 4, 4, 4, 5)\n",
    "tupla_1.count(4)"
   ]
  },
  {
   "cell_type": "code",
   "execution_count": null,
   "id": "43854d8f",
   "metadata": {},
   "outputs": [],
   "source": [
    "# Exercício 5 - Crie um dicionário vazio e imprima na tela\n",
    "dicionario = {}\n",
    "print(dicionario)"
   ]
  },
  {
   "cell_type": "code",
   "execution_count": null,
   "id": "65c3f89f",
   "metadata": {},
   "outputs": [],
   "source": [
    "# Exercício 6 - Crie um dicionário com 3 chaves e 3 valores e imprima na tela\n",
    "dicionario_2 = {'fruta':18, 'objetos':10, 'música':34}\n",
    "print(dicionario_2)"
   ]
  },
  {
   "cell_type": "code",
   "execution_count": null,
   "id": "64db1ac3",
   "metadata": {},
   "outputs": [],
   "source": [
    "# Exercício 7 - Adicione mais um elemento ao dicionário criado no exercício anterior e imprima na tela\n",
    "dicionario_2['cantor'] = 56\n",
    "print(dicionario_2)"
   ]
  },
  {
   "cell_type": "code",
   "execution_count": null,
   "id": "34239b63",
   "metadata": {},
   "outputs": [],
   "source": [
    "# Exercício 8 - Crie um dicionário com 3 chaves e 3 valores. \n",
    "# Um dos valores deve ser uma lista de 2 elementos numéricos. \n",
    "# Imprima o dicionário na tela.\n",
    "dicc = {'v1':3, 'v2':[2, 10], 'v4':7}\n",
    "print(dicc)"
   ]
  },
  {
   "cell_type": "code",
   "execution_count": null,
   "id": "2d11f624",
   "metadata": {},
   "outputs": [],
   "source": [
    "# Exercício 9 - Crie uma lista de 4 elementos. O primeiro elemento deve ser uma string, \n",
    "# o segundo uma tupla de 2 elementos, o terceiro um dcionário com 2 chaves e 2 valores e \n",
    "# o quarto elemento um valor do tipo float.\n",
    "# Imprima a lista.\n",
    "lista9 = ['elemento 1', (2, 4), {'chave1':1, 'chave2':2}, 2.6]\n",
    "print(lista9)"
   ]
  },
  {
   "cell_type": "code",
   "execution_count": 2,
   "id": "2f174111",
   "metadata": {},
   "outputs": [
    {
     "data": {
      "text/plain": [
       "'Cientista de Dados'"
      ]
     },
     "execution_count": 2,
     "metadata": {},
     "output_type": "execute_result"
    }
   ],
   "source": [
    "# Exercício 10 - Considere a string abaixo. Imprima na tela apenas os caracteres da posição 1 a 18.\n",
    "frase = 'Cientista de Dados é o profissional mais sexy do século XXI'\n",
    "frase[0:18]"
   ]
  },
  {
   "cell_type": "code",
   "execution_count": null,
   "id": "ae0a4054",
   "metadata": {},
   "outputs": [],
   "source": []
  }
 ],
 "metadata": {
  "celltoolbar": "Raw Cell Format",
  "kernelspec": {
   "display_name": "Python 3 (ipykernel)",
   "language": "python",
   "name": "python3"
  },
  "language_info": {
   "codemirror_mode": {
    "name": "ipython",
    "version": 3
   },
   "file_extension": ".py",
   "mimetype": "text/x-python",
   "name": "python",
   "nbconvert_exporter": "python",
   "pygments_lexer": "ipython3",
   "version": "3.9.13"
  }
 },
 "nbformat": 4,
 "nbformat_minor": 5
}
