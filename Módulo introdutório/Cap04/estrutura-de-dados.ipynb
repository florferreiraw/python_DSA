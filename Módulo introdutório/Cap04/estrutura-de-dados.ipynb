{
 "cells": [
  {
   "cell_type": "code",
   "execution_count": 54,
   "id": "4dfb987e",
   "metadata": {},
   "outputs": [
    {
     "name": "stdout",
     "output_type": "stream",
     "text": [
      "['quando, sabia, era, amor, olhei, sentiu, não, merecia']\n"
     ]
    },
    {
     "data": {
      "text/plain": [
       "list"
      ]
     },
     "execution_count": 54,
     "metadata": {},
     "output_type": "execute_result"
    }
   ],
   "source": [
    "#LISTAS - []\n",
    "lista_1 = ['quando, sabia, era, amor, olhei, sentiu, não, merecia']\n",
    "print(lista_1)\n",
    "type(lista_1)"
   ]
  },
  {
   "cell_type": "code",
   "execution_count": 55,
   "id": "689590eb",
   "metadata": {},
   "outputs": [
    {
     "name": "stdout",
     "output_type": "stream",
     "text": [
      "['lugar', 'difícil', 'esquecer', 'gratidão', 'aleatório']\n"
     ]
    },
    {
     "data": {
      "text/plain": [
       "list"
      ]
     },
     "execution_count": 55,
     "metadata": {},
     "output_type": "execute_result"
    }
   ],
   "source": [
    "#outra lista\n",
    "lista_2 = ['lugar', 'difícil', 'esquecer', 'gratidão', 'aleatório']\n",
    "print(lista_2)\n",
    "type(lista_2)"
   ]
  },
  {
   "cell_type": "code",
   "execution_count": 56,
   "id": "66c64b9a",
   "metadata": {},
   "outputs": [
    {
     "name": "stdout",
     "output_type": "stream",
     "text": [
      "[100, 200, 300, 'Curso de python']\n"
     ]
    },
    {
     "data": {
      "text/plain": [
       "list"
      ]
     },
     "execution_count": 56,
     "metadata": {},
     "output_type": "execute_result"
    }
   ],
   "source": [
    "#outra lista\n",
    "lista_3 = [100, 200, 300, 'Curso de python']\n",
    "print(lista_3)\n",
    "type(lista_3)"
   ]
  },
  {
   "cell_type": "markdown",
   "id": "48d220ea",
   "metadata": {},
   "source": [
    "A lista 1: é uma lista com uma string\n",
    "\n",
    "A lista 2: é uma lista com várias strings\n",
    "\n",
    "A lista 3: é uma lista que armazena diferentes elementos"
   ]
  },
  {
   "cell_type": "code",
   "execution_count": 57,
   "id": "6b040f49",
   "metadata": {},
   "outputs": [
    {
     "name": "stdout",
     "output_type": "stream",
     "text": [
      "200 100 300 lugar\n",
      "200\n",
      "100\n",
      "300\n",
      "lugar\n",
      "\n"
     ]
    }
   ],
   "source": [
    "#atribuindo cada valor da lista a uma variável\n",
    "v1 = lista_3[1]\n",
    "v2 = lista_3[0]\n",
    "v3 = lista_3[2]\n",
    "v4 = lista_2[0]\n",
    "\n",
    "print(v1, v2, v3, v4)\n",
    "#ou\n",
    "imp = '{}\\n{}\\n{}\\n{}\\n'.format(v1, v2, v3, v4)\n",
    "print(imp)"
   ]
  },
  {
   "cell_type": "code",
   "execution_count": 58,
   "id": "4a208490",
   "metadata": {},
   "outputs": [
    {
     "name": "stdout",
     "output_type": "stream",
     "text": [
      "['lugar', 'difícil', 'esquecer', 'gratidão', 'aleatório']\n",
      "['vida', 'difícil', 'esquecer', 'gratidão', 'aleatório']\n",
      "['vida', 'difícil', 'esquecer', 'graça', 'aleatório']\n",
      "['vida', 'difícil', 'esquecer', 'aleatório']\n"
     ]
    }
   ],
   "source": [
    "#Atualizando um item da LISTA\n",
    "print(lista_2)\n",
    "#atualizo\n",
    "lista_2[0] = 'vida'\n",
    "print(lista_2)\n",
    "lista_2[3] = 'graça'\n",
    "print(lista_2)\n",
    "#deletando item da lista\n",
    "del lista_2[3]\n",
    "print(lista_2)"
   ]
  },
  {
   "cell_type": "code",
   "execution_count": 65,
   "id": "bdf48986",
   "metadata": {},
   "outputs": [
    {
     "name": "stdout",
     "output_type": "stream",
     "text": [
      "[[1, 3, 6, 7, 8], [2, 6, 9, 3, 2], [4, 56, 4, 1, 2, 0]]\n",
      "[1, 3, 6, 7, 8]\n",
      "1\n",
      "6\n"
     ]
    }
   ],
   "source": [
    "# LISTAS DE LISTAS\n",
    "listas = [ [1, 3, 6, 7, 8], [2, 6, 9, 3, 2], [4, 56, 4, 1, 2, 0] ]\n",
    "print(listas)\n",
    "lista = listas[0]\n",
    "print(lista)\n",
    "v1 = lista[0]\n",
    "print(v1)\n",
    "v2 = lista[2]\n",
    "print(v2)\n",
    "#eu consigo acessar os elementos das listas da lista, porém, preciso declarar uma variável "
   ]
  },
  {
   "cell_type": "code",
   "execution_count": null,
   "id": "f22e77ed",
   "metadata": {},
   "outputs": [],
   "source": []
  },
  {
   "cell_type": "code",
   "execution_count": null,
   "id": "afe807f3",
   "metadata": {},
   "outputs": [],
   "source": []
  },
  {
   "cell_type": "code",
   "execution_count": null,
   "id": "b6864ff1",
   "metadata": {},
   "outputs": [],
   "source": []
  },
  {
   "cell_type": "code",
   "execution_count": null,
   "id": "691e608a",
   "metadata": {},
   "outputs": [],
   "source": []
  }
 ],
 "metadata": {
  "kernelspec": {
   "display_name": "Python 3 (ipykernel)",
   "language": "python",
   "name": "python3"
  },
  "language_info": {
   "codemirror_mode": {
    "name": "ipython",
    "version": 3
   },
   "file_extension": ".py",
   "mimetype": "text/x-python",
   "name": "python",
   "nbconvert_exporter": "python",
   "pygments_lexer": "ipython3",
   "version": "3.9.13"
  }
 },
 "nbformat": 4,
 "nbformat_minor": 5
}
