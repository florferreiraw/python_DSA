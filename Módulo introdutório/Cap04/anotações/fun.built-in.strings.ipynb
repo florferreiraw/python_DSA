{
 "cells": [
  {
   "cell_type": "code",
   "execution_count": null,
   "id": "c3e65f66",
   "metadata": {},
   "outputs": [],
   "source": [
    "s = 'Jupyter Notebook'\n",
    "f = 'O Jupyter Notebook é uma aplicação web de código aberto'\n"
   ]
  },
  {
   "cell_type": "code",
   "execution_count": null,
   "id": "634a98cb",
   "metadata": {},
   "outputs": [],
   "source": [
    "#Upper Case - DEIXA AS LETRAS DA STRING EM MAIÚSCULO\n",
    "s.upper()\n",
    "\n",
    "#Lower Case - DEIXA AS LETRAS DA STRING EM MINÚSCULO\n",
    "s.lower()\n",
    "\n",
    "print(s.upper())\n",
    "print(s.lower())\n",
    "\n",
    "#usando o método format para imprimir\n",
    "result = '{}\\n{}'.format(s.upper(), s.lower())\n",
    "print(result)\n",
    "\n",
    "#aplicando upper lower à string f:\n",
    "result2 = '{}\\n{}'.format(f.upper(), s.lower())\n",
    "print(result2)\n",
    "\n",
    "#Split - DIVIDIR UMA STRING POR ESPAÇO EM BRANCO\n",
    "s.split()\n",
    "f.split()\n",
    "\n",
    "#imprimindo ambos para ficar mais claro:\n",
    "imp = '{}\\n{}'.format(s.split(), f.split())\n",
    "print(imp)\n",
    "#também posso definir qual caractere eu quero que seja dividido\n",
    "f.split('a')"
   ]
  },
  {
   "cell_type": "code",
   "execution_count": null,
   "id": "a91efe2c",
   "metadata": {},
   "outputs": [],
   "source": [
    "g = 'jupyter Notebook é mais comumente usado com a linguagem Python'"
   ]
  },
  {
   "cell_type": "code",
   "execution_count": null,
   "id": "7b58f736",
   "metadata": {},
   "outputs": [],
   "source": [
    "#Capitalize - CONVERTE A PRIMEIRA LETRA PARA MAIÚSCULO\n",
    "g.capitalize()"
   ]
  },
  {
   "cell_type": "code",
   "execution_count": null,
   "id": "9b7dd48b",
   "metadata": {},
   "outputs": [],
   "source": [
    "#Count - CONTA QUANTAS VEZES DETERMINADA LETRA APARECE NA FRASE\n",
    "g.count('e')"
   ]
  },
  {
   "cell_type": "code",
   "execution_count": null,
   "id": "e250d384",
   "metadata": {},
   "outputs": [],
   "source": [
    "#Isalnum - PARA PERGUNTAR SE ESTA STRING É TODA DE NÚMEROS\n",
    "g.isalnum()"
   ]
  },
  {
   "cell_type": "code",
   "execution_count": null,
   "id": "316ab8d1",
   "metadata": {},
   "outputs": [],
   "source": [
    "#Islower - PARA PERGUNTAR SE TODAS AS LETRAS SÃO MINÚSCULAS\n",
    "g.islower()"
   ]
  },
  {
   "cell_type": "code",
   "execution_count": null,
   "id": "98bacead",
   "metadata": {},
   "outputs": [],
   "source": [
    "#Isspace - PARA PERGUNTAR SE ESSA STRING É TODA DE ESPAÇO \n",
    "g.isspace()"
   ]
  },
  {
   "cell_type": "code",
   "execution_count": null,
   "id": "fcd23486",
   "metadata": {},
   "outputs": [],
   "source": [
    "#Endswith - PARA PERGUNTAR SE ESSA STRING TERMINA COM DETERMINADA LETRA\n",
    "g.endswith('o')"
   ]
  },
  {
   "cell_type": "code",
   "execution_count": null,
   "id": "d5cbeb93",
   "metadata": {},
   "outputs": [],
   "source": [
    "#COMPARANDO STRINGS \n",
    "print('s' == 'f')"
   ]
  },
  {
   "cell_type": "code",
   "execution_count": null,
   "id": "69636515",
   "metadata": {},
   "outputs": [],
   "source": [
    "print('s' == 's')"
   ]
  }
 ],
 "metadata": {
  "kernelspec": {
   "display_name": "Python 3 (ipykernel)",
   "language": "python",
   "name": "python3"
  },
  "language_info": {
   "codemirror_mode": {
    "name": "ipython",
    "version": 3
   },
   "file_extension": ".py",
   "mimetype": "text/x-python",
   "name": "python",
   "nbconvert_exporter": "python",
   "pygments_lexer": "ipython3",
   "version": "3.9.13"
  }
 },
 "nbformat": 4,
 "nbformat_minor": 5
}
