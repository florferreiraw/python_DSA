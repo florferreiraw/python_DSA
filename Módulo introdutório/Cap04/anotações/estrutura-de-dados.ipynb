{
 "cells": [
  {
   "cell_type": "code",
   "execution_count": 2,
   "id": "4dfb987e",
   "metadata": {},
   "outputs": [
    {
     "name": "stdout",
     "output_type": "stream",
     "text": [
      "['quando, sabia, era, amor, olhei, sentiu, não, merecia']\n"
     ]
    },
    {
     "data": {
      "text/plain": [
       "list"
      ]
     },
     "execution_count": 2,
     "metadata": {},
     "output_type": "execute_result"
    }
   ],
   "source": [
    "#LISTAS - []\n",
    "lista_1 = ['quando, sabia, era, amor, olhei, sentiu, não, merecia']\n",
    "print(lista_1)\n",
    "type(lista_1)"
   ]
  },
  {
   "cell_type": "code",
   "execution_count": 3,
   "id": "689590eb",
   "metadata": {},
   "outputs": [
    {
     "name": "stdout",
     "output_type": "stream",
     "text": [
      "['lugar', 'difícil', 'esquecer', 'gratidão', 'aleatório']\n"
     ]
    },
    {
     "data": {
      "text/plain": [
       "list"
      ]
     },
     "execution_count": 3,
     "metadata": {},
     "output_type": "execute_result"
    }
   ],
   "source": [
    "#outra lista\n",
    "lista_2 = ['lugar', 'difícil', 'esquecer', 'gratidão', 'aleatório']\n",
    "print(lista_2)\n",
    "type(lista_2)"
   ]
  },
  {
   "cell_type": "code",
   "execution_count": 4,
   "id": "66c64b9a",
   "metadata": {},
   "outputs": [
    {
     "name": "stdout",
     "output_type": "stream",
     "text": [
      "[100, 200, 300, 'Curso de python']\n"
     ]
    },
    {
     "data": {
      "text/plain": [
       "list"
      ]
     },
     "execution_count": 4,
     "metadata": {},
     "output_type": "execute_result"
    }
   ],
   "source": [
    "#outra lista\n",
    "lista_3 = [100, 200, 300, 'Curso de python']\n",
    "print(lista_3)\n",
    "type(lista_3)"
   ]
  },
  {
   "cell_type": "markdown",
   "id": "48d220ea",
   "metadata": {},
   "source": [
    "A lista 1: é uma lista com uma string\n",
    "\n",
    "A lista 2: é uma lista com várias strings\n",
    "\n",
    "A lista 3: é uma lista que armazena diferentes elementos"
   ]
  },
  {
   "cell_type": "code",
   "execution_count": 5,
   "id": "6b040f49",
   "metadata": {},
   "outputs": [
    {
     "name": "stdout",
     "output_type": "stream",
     "text": [
      "200 100 300 lugar\n",
      "200\n",
      "100\n",
      "300\n",
      "lugar\n",
      "\n"
     ]
    }
   ],
   "source": [
    "#atribuindo cada valor da lista a uma variável\n",
    "v1 = lista_3[1]\n",
    "v2 = lista_3[0]\n",
    "v3 = lista_3[2]\n",
    "v4 = lista_2[0]\n",
    "\n",
    "print(v1, v2, v3, v4)\n",
    "#ou\n",
    "imp = '{}\\n{}\\n{}\\n{}\\n'.format(v1, v2, v3, v4)\n",
    "print(imp)"
   ]
  },
  {
   "cell_type": "code",
   "execution_count": 6,
   "id": "4a208490",
   "metadata": {},
   "outputs": [
    {
     "name": "stdout",
     "output_type": "stream",
     "text": [
      "['lugar', 'difícil', 'esquecer', 'gratidão', 'aleatório']\n",
      "['vida', 'difícil', 'esquecer', 'gratidão', 'aleatório']\n",
      "['vida', 'difícil', 'esquecer', 'graça', 'aleatório']\n",
      "['vida', 'difícil', 'esquecer', 'aleatório']\n"
     ]
    }
   ],
   "source": [
    "#Atualizando um item da LISTA\n",
    "print(lista_2)\n",
    "#atualizo\n",
    "lista_2[0] = 'vida'\n",
    "print(lista_2)\n",
    "lista_2[3] = 'graça'\n",
    "print(lista_2)\n",
    "#deletando item da lista\n",
    "del lista_2[3]\n",
    "print(lista_2)"
   ]
  },
  {
   "cell_type": "code",
   "execution_count": 7,
   "id": "bdf48986",
   "metadata": {},
   "outputs": [
    {
     "name": "stdout",
     "output_type": "stream",
     "text": [
      "[[1, 3, 6, 7, 8], [2, 6, 9, 3, 2], [4, 56, 4, 1, 2, 0]]\n",
      "[1, 3, 6, 7, 8]\n",
      "1\n",
      "6\n"
     ]
    }
   ],
   "source": [
    "# LISTAS DE LISTAS\n",
    "listas = [ [1, 3, 6, 7, 8], [2, 6, 9, 3, 2], [4, 56, 4, 1, 2, 0] ]\n",
    "print(listas)\n",
    "lista = listas[0]\n",
    "print(lista)\n",
    "v1 = lista[0]\n",
    "print(v1)\n",
    "v2 = lista[2]\n",
    "print(v2)\n",
    "#eu consigo acessar os elementos das listas da lista, porém, preciso declarar uma variável "
   ]
  },
  {
   "cell_type": "code",
   "execution_count": 8,
   "id": "f22e77ed",
   "metadata": {},
   "outputs": [
    {
     "name": "stdout",
     "output_type": "stream",
     "text": [
      "True\n",
      "False\n"
     ]
    }
   ],
   "source": [
    "#operador in\n",
    "lista_teste_in = [2, 6, 7, 8, 10]\n",
    "print(10 in lista_teste_in)\n",
    "print(3 in lista_teste_in)"
   ]
  },
  {
   "cell_type": "code",
   "execution_count": 9,
   "id": "afe807f3",
   "metadata": {},
   "outputs": [
    {
     "data": {
      "text/plain": [
       "5"
      ]
     },
     "execution_count": 9,
     "metadata": {},
     "output_type": "execute_result"
    }
   ],
   "source": [
    "#Built-in \n",
    "# LEN - RETORNA O TAMANHO DA LISTA\n",
    "len(lista_teste_in)\n"
   ]
  },
  {
   "cell_type": "code",
   "execution_count": 10,
   "id": "984b1b41",
   "metadata": {},
   "outputs": [
    {
     "data": {
      "text/plain": [
       "10"
      ]
     },
     "execution_count": 10,
     "metadata": {},
     "output_type": "execute_result"
    }
   ],
   "source": [
    "# MAX - RETORNA O VALOR MÁXIMO DA LISTA\n",
    "max(lista_teste_in)"
   ]
  },
  {
   "cell_type": "code",
   "execution_count": 11,
   "id": "691e608a",
   "metadata": {},
   "outputs": [
    {
     "data": {
      "text/plain": [
       "2"
      ]
     },
     "execution_count": 11,
     "metadata": {},
     "output_type": "execute_result"
    }
   ],
   "source": [
    "# MIM - RETORNA O VALOR MÍNIMO DA LISTA\n",
    "min(lista_teste_in)"
   ]
  },
  {
   "cell_type": "code",
   "execution_count": 12,
   "id": "1dd2b2b0",
   "metadata": {},
   "outputs": [
    {
     "name": "stdout",
     "output_type": "stream",
     "text": [
      "['a vida', 'a bela', 'a casa', 'a vida é bela']\n",
      "['a vida', 'a bela', 'a casa', 'a vida é bela', 'cabeceira de cama']\n",
      "['a vida', 'a bela', 'a casa', 'a vida é bela', 'cabeceira de cama', 'corpo']\n"
     ]
    }
   ],
   "source": [
    "listat = ['a vida', 'a bela', 'a casa', 'a vida é bela']\n",
    "print(listat)\n",
    "listat.append('cabeceira de cama')\n",
    "print(listat)\n",
    "listat.append('corpo')\n",
    "print(listat)"
   ]
  },
  {
   "cell_type": "code",
   "execution_count": 13,
   "id": "c5cf0a12",
   "metadata": {},
   "outputs": [
    {
     "data": {
      "text/plain": [
       "list"
      ]
     },
     "execution_count": 13,
     "metadata": {},
     "output_type": "execute_result"
    }
   ],
   "source": [
    "# DICIONÁRIOS - {}\n",
    "#isso é uma lista:\n",
    "listaex = ['luan', 10, 'gabi', 15, 'vicente', 40, 'denilson', 22]\n",
    "type(listaex)"
   ]
  },
  {
   "cell_type": "code",
   "execution_count": 14,
   "id": "b7364920",
   "metadata": {},
   "outputs": [
    {
     "data": {
      "text/plain": [
       "dict"
      ]
     },
     "execution_count": 14,
     "metadata": {},
     "output_type": "execute_result"
    }
   ],
   "source": [
    "#isso é um dicionário:\n",
    "dicionario = {'luan':10, 'gabi':15, 'vicente':40, 'denilson':22}\n",
    "type(dicionario)"
   ]
  },
  {
   "cell_type": "code",
   "execution_count": 16,
   "id": "210b69bd",
   "metadata": {},
   "outputs": [
    {
     "data": {
      "text/plain": [
       "4"
      ]
     },
     "execution_count": 16,
     "metadata": {},
     "output_type": "execute_result"
    }
   ],
   "source": [
    "#tamanho\n",
    "len (dicionario)"
   ]
  },
  {
   "cell_type": "code",
   "execution_count": 18,
   "id": "b7e9813e",
   "metadata": {},
   "outputs": [
    {
     "data": {
      "text/plain": [
       "dict_keys(['luan', 'gabi', 'vicente', 'denilson'])"
      ]
     },
     "execution_count": 18,
     "metadata": {},
     "output_type": "execute_result"
    }
   ],
   "source": [
    "#retornar somente as chaves\n",
    "dicionario.keys()"
   ]
  },
  {
   "cell_type": "code",
   "execution_count": 19,
   "id": "bc18eada",
   "metadata": {},
   "outputs": [
    {
     "data": {
      "text/plain": [
       "dict_values([10, 15, 40, 22])"
      ]
     },
     "execution_count": 19,
     "metadata": {},
     "output_type": "execute_result"
    }
   ],
   "source": [
    "#retornar somente valores\n",
    "dicionario.values()"
   ]
  },
  {
   "cell_type": "code",
   "execution_count": 20,
   "id": "fd083f93",
   "metadata": {},
   "outputs": [
    {
     "data": {
      "text/plain": [
       "dict_items([('luan', 10), ('gabi', 15), ('vicente', 40), ('denilson', 22)])"
      ]
     },
     "execution_count": 20,
     "metadata": {},
     "output_type": "execute_result"
    }
   ],
   "source": [
    "#retornar os itens\n",
    "dicionario.items()"
   ]
  },
  {
   "cell_type": "code",
   "execution_count": 23,
   "id": "f6af1f30",
   "metadata": {},
   "outputs": [
    {
     "name": "stdout",
     "output_type": "stream",
     "text": [
      "{'luan': 10, 'gabi': 15, 'vicente': 40, 'denilson': 22, 'lore': 3, 'loren': 4, 'lorena': 5}\n"
     ]
    }
   ],
   "source": [
    "#UPDATE\n",
    "dictt = {'lore':3, 'loren':4, 'lorena':5}\n",
    "dicionario.update(dictt)\n",
    "print(dicionario)"
   ]
  },
  {
   "cell_type": "code",
   "execution_count": null,
   "id": "e9807fe5",
   "metadata": {},
   "outputs": [],
   "source": [
    "dicionario['luan']"
   ]
  },
  {
   "cell_type": "code",
   "execution_count": null,
   "id": "79d42dc3",
   "metadata": {},
   "outputs": [],
   "source": [
    "dicionario['denilson']"
   ]
  },
  {
   "cell_type": "code",
   "execution_count": null,
   "id": "8820e4c9",
   "metadata": {},
   "outputs": [],
   "source": [
    "#adicionando mais um item ao dicionário\n",
    "dicionario['noslin'] = 21"
   ]
  },
  {
   "cell_type": "code",
   "execution_count": null,
   "id": "5a899317",
   "metadata": {},
   "outputs": [],
   "source": [
    "print(dicionario)"
   ]
  },
  {
   "cell_type": "code",
   "execution_count": null,
   "id": "4922722e",
   "metadata": {},
   "outputs": [],
   "source": [
    "#para limpar o dicionário, só chamar o método clear\n",
    "dicionario.clear()"
   ]
  },
  {
   "cell_type": "code",
   "execution_count": null,
   "id": "f76d3b01",
   "metadata": {},
   "outputs": [],
   "source": [
    "print(dicionario)\n",
    "#será impressa apenas as chaves {}\n",
    "del dicionario\n",
    "#se eu der print(dicionario), aparece a mensagem de erro: name 'dicionario' is not defined"
   ]
  },
  {
   "cell_type": "code",
   "execution_count": null,
   "id": "cba2661c",
   "metadata": {},
   "outputs": [],
   "source": [
    "# TUPLAS - ()\n",
    "tupla1 = ('dicionario', 78, 'python', 45, 'geografia')\n",
    "#uma tupla é imutável"
   ]
  },
  {
   "cell_type": "code",
   "execution_count": null,
   "id": "c4bd32ee",
   "metadata": {},
   "outputs": [],
   "source": []
  }
 ],
 "metadata": {
  "kernelspec": {
   "display_name": "Python 3 (ipykernel)",
   "language": "python",
   "name": "python3"
  },
  "language_info": {
   "codemirror_mode": {
    "name": "ipython",
    "version": 3
   },
   "file_extension": ".py",
   "mimetype": "text/x-python",
   "name": "python",
   "nbconvert_exporter": "python",
   "pygments_lexer": "ipython3",
   "version": "3.9.13"
  }
 },
 "nbformat": 4,
 "nbformat_minor": 5
}
