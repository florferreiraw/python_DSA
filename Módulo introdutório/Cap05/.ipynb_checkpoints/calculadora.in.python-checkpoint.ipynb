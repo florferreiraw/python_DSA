{
 "cells": [
  {
   "cell_type": "code",
   "execution_count": null,
   "id": "01bbe217",
   "metadata": {},
   "outputs": [
    {
     "name": "stdout",
     "output_type": "stream",
     "text": [
      "\n",
      "*************************\n",
      "\n",
      "* CALCULADORA EM PYTHON *\n",
      "\n",
      "*************************\n"
     ]
    }
   ],
   "source": [
    "print('\\n*************************')\n",
    "print('\\n* CALCULADORA EM PYTHON *')\n",
    "print('\\n*************************')\n",
    "\n",
    "operacao = float(input('Digite a operação desejada: \\n 1 - SOMA \\n 2 - SUBSTRAÇÃO \\n 3 - MULTIPLICAÇÃO \\n 4 - DIVISÃO \\n'))\n",
    "if operacao == 1:\n",
    "    n1 = float(input('Digite um número:'))\n",
    "    n2 = float(input('Digite outro:'))\n",
    "    print('O resultado é:', n1 + n2)\n",
    "    \n",
    "if operacao == 2:\n",
    "    n1 = float(input('Digite um número:'))\n",
    "    n2 = float(input('Digite outro:'))\n",
    "    print('O resultado é:', n1 - n2)\n",
    "    \n",
    "if operacao == 3:\n",
    "    n1 = float(input('Digite um número:'))\n",
    "    n2 = float(input('Digite outro:'))\n",
    "    print('O resultado é:', n1 * n2)\n",
    "    \n",
    "if operacao == 4:\n",
    "    n1 = float(input('Digite um número:'))\n",
    "    n2 = float(input('Digite outro:'))\n",
    "    print('O resultado é:', n1 / n2)\n",
    "    \n",
    "else:\n",
    "    print('Dgite uma operação válida!')"
   ]
  },
  {
   "cell_type": "code",
   "execution_count": null,
   "id": "6326a504",
   "metadata": {},
   "outputs": [],
   "source": [
    "#DE OUTRA MANEIRA:\n",
    "print('\\n*************************')\n",
    "print('\\n* CALCULADORA EM PYTHON *')\n",
    "print('\\n*************************')\n",
    "\n",
    "def add(x , y):\n",
    "    return x + y\n",
    "def subtract(x , y):\n",
    "    return x - y\n",
    "def multiply(x, y):\n",
    "    return x * y\n",
    "def divide(x, y):\n",
    "    return x / y\n",
    "\n",
    "operacao = float(input('Digite a operação desejada: \\n 1 - SOMA \\n 2 - SUBSTRAÇÃO \\n 3 - MULTIPLICAÇÃO \\n 4 - DIVISÃO \\n'))\n",
    "n1_1 = int(input('Digite um número:'))\n",
    "n2_2 = int(input('Digite outro:'))\n",
    "\n",
    "if operacao == 1:\n",
    "    print(n1_1, '+', n2_2, '=', add(n1_1, n2_2))\n",
    "          \n",
    "elif operacao == 2:\n",
    "    print(n1_1, '-', n2_2, '=', subtract(n1_1, n2_2))\n",
    "          \n",
    "elif operacao == 3:\n",
    "    print(n1_1, '*', n2_2, '=', multiply(n1_1, n2_2))\n",
    "    \n",
    "elif operacao == 4:\n",
    "    print(n1_1, '/', n2_2, '=', divide(n1_1, n2_2))\n",
    "    \n",
    "else:\n",
    "    print('Dgite uma operação válida!')"
   ]
  },
  {
   "cell_type": "code",
   "execution_count": null,
   "id": "8fdeb0bd",
   "metadata": {},
   "outputs": [],
   "source": []
  },
  {
   "cell_type": "code",
   "execution_count": null,
   "id": "8307c333",
   "metadata": {},
   "outputs": [],
   "source": []
  }
 ],
 "metadata": {
  "kernelspec": {
   "display_name": "Python 3 (ipykernel)",
   "language": "python",
   "name": "python3"
  },
  "language_info": {
   "codemirror_mode": {
    "name": "ipython",
    "version": 3
   },
   "file_extension": ".py",
   "mimetype": "text/x-python",
   "name": "python",
   "nbconvert_exporter": "python",
   "pygments_lexer": "ipython3",
   "version": "3.9.13"
  }
 },
 "nbformat": 4,
 "nbformat_minor": 5
}
