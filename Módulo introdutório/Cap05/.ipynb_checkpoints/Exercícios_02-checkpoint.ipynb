{
 "cells": [
  {
   "cell_type": "markdown",
   "id": "88fce882",
   "metadata": {},
   "source": [
    "# Métodos e Funções"
   ]
  },
  {
   "cell_type": "code",
   "execution_count": 13,
   "id": "85c199ec",
   "metadata": {},
   "outputs": [
    {
     "name": "stdout",
     "output_type": "stream",
     "text": [
      "1\n",
      "3\n",
      "5\n",
      "7\n",
      "9\n",
      "11\n",
      "13\n",
      "15\n",
      "17\n",
      "19\n"
     ]
    }
   ],
   "source": [
    "# Exercício 1 - Crie uma função que imprima a sequência de números pares entre 1 e 20 (a função não recebe parâmetro) \n",
    "# e depois faça uma chamada à função para listar os números   \n",
    "\n",
    "def funcao1():\n",
    "    for i in range (1, 21, 2):\n",
    "        print(i)\n",
    "funcao1()"
   ]
  },
  {
   "cell_type": "code",
   "execution_count": 26,
   "id": "517d3904",
   "metadata": {},
   "outputs": [
    {
     "name": "stdout",
     "output_type": "stream",
     "text": [
      "EU SEI QUE TEM COISAS QUE EU FAÇO QUE VOCÊ NÃO ACHA CERTO!\n"
     ]
    },
    {
     "data": {
      "text/plain": [
       "<function __main__.funcaoS(text)>"
      ]
     },
     "execution_count": 26,
     "metadata": {},
     "output_type": "execute_result"
    }
   ],
   "source": [
    "# Exercício 2 - Crie uam função que receba uma string como argumento e retorne a mesma string em letras maiúsculas.\n",
    "# Faça uma chamada à função, passando como parâmetro uma string\n",
    "\n",
    "def funcaoS(text):\n",
    "    print(text.upper())\n",
    "    return\n",
    "funcaoS('Eu sei que tem coisas que eu faço que você não acha certo!')\n",
    "funcaoS\n",
    "    "
   ]
  },
  {
   "cell_type": "code",
   "execution_count": 24,
   "id": "9c8753a7",
   "metadata": {},
   "outputs": [
    {
     "name": "stdout",
     "output_type": "stream",
     "text": [
      "[2, 7, 9, 10, 3, 4]\n"
     ]
    }
   ],
   "source": [
    "# Exercício 3 - Crie uma função que receba como parâmetro uma lista de 4 elementos, adicione 2 elementos a lista e \n",
    "# imprima a lista\n",
    "\n",
    "def funcaoSS(lista):\n",
    "   (lista.append(3))\n",
    "   (lista.append(4))\n",
    "listaa = [2, 7, 9, 10]\n",
    "funcaoSS(listaa) \n",
    "print(listaa)"
   ]
  },
  {
   "cell_type": "code",
   "execution_count": null,
   "id": "c2d2c4cd",
   "metadata": {},
   "outputs": [],
   "source": [
    "# Exercício 4 - Crie uma função que receba um argumento formal e uma possível lista de elementos. Faça duas chamadas \n",
    "# à função, com apenas 1 elemento e na segunda chamada com 4 elementos\n",
    "\n",
    "def printNum( arg1, *lista ):\n",
    "    print (arg1)\n",
    "    for i in lista:\n",
    "        print (i)\n",
    "    return;\n",
    "\n",
    "# Chamada à função\n",
    "printNum( 100 )\n",
    "printNum( 'A', 'B', 'C' )"
   ]
  }
 ],
 "metadata": {
  "kernelspec": {
   "display_name": "Python 3 (ipykernel)",
   "language": "python",
   "name": "python3"
  },
  "language_info": {
   "codemirror_mode": {
    "name": "ipython",
    "version": 3
   },
   "file_extension": ".py",
   "mimetype": "text/x-python",
   "name": "python",
   "nbconvert_exporter": "python",
   "pygments_lexer": "ipython3",
   "version": "3.9.13"
  }
 },
 "nbformat": 4,
 "nbformat_minor": 5
}
