{
 "cells": [
  {
   "cell_type": "code",
   "execution_count": null,
   "id": "01bbe217",
   "metadata": {},
   "outputs": [],
   "source": [
    "print('\\n*************************')\n",
    "print('\\n* CALCULADORA EM PYTHON *')\n",
    "print('\\n*************************')\n",
    "\n",
    "operacao = float(input('Digite a operação desejada: \\n 1 - SOMA \\n 2 - SUBSTRAÇÃO \\n 3 - MULTIPLICAÇÃO \\n 4 - DIVISÃO \\n'))\n",
    "if operacao == 1:\n",
    "    n1 = float(input('Digite um número:'))\n",
    "    n2 = float(input('Digite outro:'))\n",
    "    print('O resultado é:', n1 + n2)\n",
    "if operacao == 2:\n",
    "    n1 = float(input('Digite um número:'))\n",
    "    n2 = float(input('Digite outro:'))\n",
    "    print('O resultado é:', n1 - n2)\n",
    "if operacao == 3:\n",
    "    n1 = float(input('Digite um número:'))\n",
    "    n2 = float(input('Digite outro:'))\n",
    "    print('O resultado é:', n1 * n2)\n",
    "if operacao == 4:\n",
    "    n1 = float(input('Digite um número:'))\n",
    "    n2 = float(input('Digite outro:'))\n",
    "    print('O resultado é:', n1 / n2)\n",
    "else:\n",
    "    print('Dgite uma operação válida!')"
   ]
  },
  {
   "cell_type": "code",
   "execution_count": null,
   "id": "6326a504",
   "metadata": {},
   "outputs": [],
   "source": []
  }
 ],
 "metadata": {
  "kernelspec": {
   "display_name": "Python 3 (ipykernel)",
   "language": "python",
   "name": "python3"
  },
  "language_info": {
   "codemirror_mode": {
    "name": "ipython",
    "version": 3
   },
   "file_extension": ".py",
   "mimetype": "text/x-python",
   "name": "python",
   "nbconvert_exporter": "python",
   "pygments_lexer": "ipython3",
   "version": "3.9.13"
  }
 },
 "nbformat": 4,
 "nbformat_minor": 5
}
