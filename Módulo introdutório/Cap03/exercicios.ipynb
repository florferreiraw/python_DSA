{
 "cells": [
  {
   "cell_type": "markdown",
   "id": "4f1e8a41",
   "metadata": {},
   "source": [
    "Código 1: CALCULAR A ÁREA DE UM PARALELOGRAMO"
   ]
  },
  {
   "cell_type": "code",
   "execution_count": 1,
   "id": "ddf4b8ed",
   "metadata": {
    "scrolled": false
   },
   "outputs": [
    {
     "name": "stdout",
     "output_type": "stream",
     "text": [
      "Bem-Vindo ao calculador de área de um paralelograma!\n",
      "Insira o comprimento da base:23\n",
      "Insira o valor da altura:12\n",
      "A área do paralelogramo é: 276.0 cm²\n"
     ]
    }
   ],
   "source": [
    "\n",
    "print('Bem-Vindo ao calculador de área de um paralelograma!')\n",
    "base = float(input('Insira o comprimento da base:'))\n",
    "altura = float(input('Insira o valor da altura:'))\n",
    "area = base * altura\n",
    "print('A área do paralelogramo é:', area, 'cm²')\n",
    "    "
   ]
  },
  {
   "cell_type": "markdown",
   "id": "aa99f13e",
   "metadata": {},
   "source": [
    "Código 2: CALCULADORA SIMPLES\n"
   ]
  },
  {
   "cell_type": "code",
   "execution_count": null,
   "id": "0a92c7c7",
   "metadata": {},
   "outputs": [
    {
     "name": "stdout",
     "output_type": "stream",
     "text": [
      "Bem-vindo(a) à calculadora\n"
     ]
    }
   ],
   "source": [
    "print('Bem-vindo(a) à calculadora')\n",
    "n1 = float(input('Insira o número que deseja calcular:'))\n",
    "n2 = float(input('Insira outro:'))\n",
    "operaçao = input('Digite qual operação você deseja realizar dentre as opções: +, -, *, /')\n",
    "print('A operação a ser relizada é', operaçao)\n",
    "#minhas condições\n",
    "if operaçao == '-':\n",
    "    result = n1 - n2\n",
    "    print('O resultado é:', result )\n",
    "elif operaçao == '+':\n",
    "    result = n1 + n2\n",
    "    print('O resultado é:', result )\n",
    "elif operaçao == '*':\n",
    "    result = n1 * n2\n",
    "    print('O resultado é:', result )\n",
    "elif operaçao == '/':\n",
    "    result = n1 / n2\n",
    "    print('O resultado é:', result )\n",
    "\n",
    "else: print('Você deve escolher uma das opções indicadas!')\n",
    "    \n"
   ]
  },
  {
   "cell_type": "markdown",
   "id": "1c523514",
   "metadata": {},
   "source": [
    "Código 3: ALGORITMO BUBBLE SORT\n",
    "PSEUDOCÓDIGO\n",
    "Inicie\n",
    "\n",
    " Para cada elemento i no array de tamanho n\n",
    "        Para cada elemento j no array de tamanho n - 1\n",
    "               Se elemento i for maior que elemento j\n",
    "                     Troque os elementos i e j\n",
    " Exiba o array ordenado\n",
    "\n",
    "Fim"
   ]
  },
  {
   "cell_type": "code",
   "execution_count": 26,
   "id": "06d04e21",
   "metadata": {},
   "outputs": [
    {
     "name": "stdout",
     "output_type": "stream",
     "text": [
      "[-1, 0, 1, 3, 5, 8, 12, 23, 27, 29, 56, 70, 100]\n",
      "[-9, -1, 1, 2, 4, 9, 10, 12, 23, 24, 40]\n",
      "[-3, 0, 1, 3, 4, 10, 20, 29, 32, 76, 80]\n",
      "[-9, 56, 36, 63, 54, 19, -4, 39, 43, 92, 99, 77, 78, 61, 87, 81, 51, 80, -3, 12, 47, 13, 16, 29, 65, 4, 82, 49, 100, 76]\n",
      "[-9, -4, -3, 4, 12, 13, 16, 19, 29, 36, 39, 43, 47, 49, 51, 54, 56, 61, 63, 65, 76, 77, 78, 80, 81, 82, 87, 92, 99, 100]\n"
     ]
    }
   ],
   "source": [
    "lista1 = [1, 8, 12, 0, -1, 23, 56, 27, 29, 70, 100, 3, 5]\n",
    "lista2 = [1, 4, 10, 9, 23, 24, 12, -9, 2, 40, -1]\n",
    "lista3 = [20, 1, 80, -3, 0, 29, 10, 76, 32, 4, 3]\n",
    "def b_s(arr):\n",
    "    # n é uma variável que recebe o tamaho da lista\n",
    "    n = len(arr)\n",
    "    # agora eu vou criar os loops\n",
    "    # para cada elemento i do array\n",
    "    for i in range(n):\n",
    "        #para cada elemento j do array\n",
    "        for j in range(0, n-i-1):\n",
    "            # se elemento i for maior que elemento j\n",
    "            if arr[j] > arr[j + 1]:\n",
    "                #troque os elementos i e j\n",
    "                arr[j], arr[j + 1] = arr[j + 1], arr[j]\n",
    "    return arr\n",
    "print(b_s(lista1))\n",
    "print(b_s(lista2))\n",
    "print(b_s(lista3))\n",
    "\n",
    "# agora vou gerar uma lista de números aleatórios para que o loop ainda possa ser utilizado\n",
    "# para imprimir essa lista de maneira ordenada sempre que for gerada uma nova\n",
    "\n",
    "import random\n",
    "\n",
    "# Gera uma lista de 30 números inteiros aleatórios entre -10 e 100\n",
    "lista_desord = random.sample(range(-10, 101), 30)\n",
    "\n",
    "print(lista_desord)\n",
    "\n",
    "print(b_s(lista_desord))\n",
    "\n",
    "# a lista será nova a cada execução, e ainda assim, o loop será aplicado à nova lista.\n",
    "\n"
   ]
  },
  {
   "cell_type": "code",
   "execution_count": null,
   "id": "7d279122",
   "metadata": {},
   "outputs": [],
   "source": []
  },
  {
   "cell_type": "code",
   "execution_count": null,
   "id": "223d8675",
   "metadata": {},
   "outputs": [],
   "source": []
  },
  {
   "cell_type": "code",
   "execution_count": null,
   "id": "38ffbc0d",
   "metadata": {},
   "outputs": [],
   "source": []
  }
 ],
 "metadata": {
  "kernelspec": {
   "display_name": "Python 3 (ipykernel)",
   "language": "python",
   "name": "python3"
  },
  "language_info": {
   "codemirror_mode": {
    "name": "ipython",
    "version": 3
   },
   "file_extension": ".py",
   "mimetype": "text/x-python",
   "name": "python",
   "nbconvert_exporter": "python",
   "pygments_lexer": "ipython3",
   "version": "3.9.13"
  }
 },
 "nbformat": 4,
 "nbformat_minor": 5
}
