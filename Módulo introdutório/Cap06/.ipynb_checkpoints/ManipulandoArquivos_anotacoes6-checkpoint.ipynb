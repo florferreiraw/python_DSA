{
 "cells": [
  {
   "cell_type": "markdown",
   "id": "644feef2",
   "metadata": {},
   "source": [
    "# Manipulação de Arquivos"
   ]
  },
  {
   "cell_type": "code",
   "execution_count": null,
   "id": "9bb49412",
   "metadata": {},
   "outputs": [],
   "source": [
    "#abrindo arquivo para leitura:\n",
    "arq1 = open('38-Cap06/arquivos/arquivo1.txt', 'r') \n",
    "# open -> abrir //// r -> read (ler)\n",
    "#eu estou abrindo esse arquivo para leitura e gravando o seu conteúdo em uma variável chamada arq1\n",
    "\n",
    "#lendo o arquivo:\n",
    "print(arq1.read())\n",
    "#o objetivo desse método é imprimir o conteúdo do arquivo que foi armazenado na memória\n",
    "\n",
    "#contando o número de caracteres\n",
    "print(arq1.tell())\n",
    "#esse método conta os caracteres do arquivo\n",
    "\n",
    "#retornar para ó início do arquivo (pois quando você chama o arquivo para leitura, a linguagem leva o cursor para o final do arquivo)\n",
    "#retornando\n",
    "print(arq1.seek(0,0)) #seek -> procurar\n",
    "#desse modo, o cursor retorna para o início - indicado pelas coordenadas 0,0.\n",
    "\n",
    "#lendo o primeiros 23 caracteres:\n",
    "print(arq1.read(23))\n",
    "#o cursor irá parar no 23° caractere, logo, se tentar executar novamente:\n",
    "print(arq1.read())\n",
    "#irá imprimir os caracteres que estão a partir do 23°"
   ]
  },
  {
   "cell_type": "markdown",
   "id": "ef7a29d4",
   "metadata": {},
   "source": [
    "# Gravando Arquivos"
   ]
  },
  {
   "cell_type": "code",
   "execution_count": null,
   "id": "681fc14e",
   "metadata": {},
   "outputs": [],
   "source": [
    "#abrindo arquivo para gravação:\n",
    "arq2 = open('38-Cap06/arquivos/arquivo2.txt', 'w') # w -> write (escrita) \n",
    "#se esse arquivo não estiver no caminho indicado, ele será criado, se ele já existir, irá subescrever \n",
    "#como abrimos esse arquivo SOMENTE para gravação, não podemos abri-lo para leitura:\n",
    "# print(arq2.read()) -----> ESSE COMANDO TRARÁ UMA MENSAGEM DE ERR0: not readable\n",
    "#mas eu também posso abrir para leitura e escrita (juntos)\n",
    "\n",
    "#Gravando arquivo\n",
    "arq2.write(\"Aprendendo a programar em python.\")\n",
    "arq2.close() #close serve para fechar o arquivo. close --> fechar\n",
    "\n",
    "#lendo o arquivo gravado:\n",
    "arq2 = open('38-Cap06/arquivos/arquivo2.txt', 'r') #tou armazenando esse arquivo na variável\n",
    "#logo, imprimo o conteúdo do arquivo que foi armazenado na variável:\n",
    "print(arq2.read())\n",
    "\n",
    "# acresentando conteúdo ao arquivo:\n",
    "arq2 = open('38-Cap06/arquivos/arquivo2.txt', 'a') #a = append --> acresentar\n",
    "arq2.write(' A metodologia de ensino utilizada nesse curso, facilita o aprendizado.'')\n",
    "arq2.close()\n",
    "arq2 = open('38-Cap06/arquivos/arquivo2.txt', 'r')\n",
    "print(arq2.read())\n",
    "\n",
    "#retornando para o início do arquivo:\n",
    "print(arq2.seek(0,0))\n",
    "\n"
   ]
  },
  {
   "cell_type": "markdown",
   "id": "8aeb86ad",
   "metadata": {},
   "source": [
    "# Abrindo Dataset em Linha Única"
   ]
  },
  {
   "cell_type": "code",
   "execution_count": null,
   "id": "555e2a5b",
   "metadata": {},
   "outputs": [],
   "source": [
    "f = open('38-Cap06/arquivos/salarios.csv', 'r')\n",
    "data = f.read()\n",
    "rows = data.split('\\n')  #split --> dividir\n",
    "#quando encontrar enter, o arquivo será dividido, e gurdado em rows\n",
    "print(rows)\n",
    "\n",
    "#Dividindo o arquivo em colunas \n",
    "f = open('38-Cap06/arquivos/salarios.csv', 'r')\n",
    "data = f.read()\n",
    "rows = data.split('\\n')\n",
    "full_data = []\n",
    "for row in rows:\n",
    "    split_row = row.split(',')\n",
    "    full_data.append(split_row)\n",
    "print(full_data)\n",
    "    "
   ]
  },
  {
   "cell_type": "markdown",
   "id": "3a9f0626",
   "metadata": {},
   "source": [
    "# Contando as Linhas de um Arquivo"
   ]
  },
  {
   "cell_type": "code",
   "execution_count": 4,
   "id": "0fcd5187",
   "metadata": {},
   "outputs": [
    {
     "name": "stdout",
     "output_type": "stream",
     "text": [
      "32184 linhas\n"
     ]
    }
   ],
   "source": [
    "f = open('38-Cap06/arquivos/salarios.csv', 'r')\n",
    "data = f.read()\n",
    "rows = data.split('\\n')\n",
    "full_data = []\n",
    "for row in rows:\n",
    "    split_row = row.split(',')\n",
    "    full_data.append(split_row)\n",
    "count = 0\n",
    "for row in full_data:\n",
    "    count += 1 #equivalente a: count = count +1\n",
    "print(count, 'linhas') \n",
    "    "
   ]
  },
  {
   "cell_type": "markdown",
   "id": "065e1c53",
   "metadata": {},
   "source": [
    "# Contando as Colunas de um Arquivo"
   ]
  },
  {
   "cell_type": "code",
   "execution_count": 7,
   "id": "e2f69f46",
   "metadata": {},
   "outputs": [
    {
     "name": "stdout",
     "output_type": "stream",
     "text": [
      "4\n"
     ]
    }
   ],
   "source": [
    "f = open('38-Cap06/arquivos/salarios.csv', 'r')\n",
    "data = f.read()\n",
    "rows = data.split('\\n')\n",
    "full_data = []\n",
    "for row in rows:\n",
    "    split_row = row.split(',')\n",
    "    full_data.append(split_row)\n",
    "    first_row = full_data[0] # índice da primeira linha, pois a indexação em pytho começa por 0\n",
    "count = 0\n",
    "for column in first_row:\n",
    "    count = count + 1\n",
    "    \n",
    "#outra possível forma de solucionar:\n",
    "# for column in full_data[0]:\n",
    "#      count = count + 1\n",
    "       \n",
    "print(count)"
   ]
  },
  {
   "cell_type": "markdown",
   "id": "a2a4b3a8",
   "metadata": {},
   "source": [
    "# Importando um Dataset com Panda\n",
    "O Pandas é uma biblioteca de código aberto para análise de dados em Python. Ela fornece estruturas de dados de alto desempenho e fáceis de usar, além de ferramentas de análise de dados. O nome \"Pandas\" é derivado de \"Panel Data\" (dados em painel), que é um termo econômico para conjuntos de dados multidimensionais."
   ]
  },
  {
   "cell_type": "code",
   "execution_count": 11,
   "id": "6adb3c16",
   "metadata": {},
   "outputs": [],
   "source": [
    "import pandas as pd"
   ]
  },
  {
   "cell_type": "code",
   "execution_count": 17,
   "id": "395d74b8",
   "metadata": {},
   "outputs": [
    {
     "data": {
      "text/html": [
       "<div>\n",
       "<style scoped>\n",
       "    .dataframe tbody tr th:only-of-type {\n",
       "        vertical-align: middle;\n",
       "    }\n",
       "\n",
       "    .dataframe tbody tr th {\n",
       "        vertical-align: top;\n",
       "    }\n",
       "\n",
       "    .dataframe thead th {\n",
       "        text-align: right;\n",
       "    }\n",
       "</style>\n",
       "<table border=\"1\" class=\"dataframe\">\n",
       "  <thead>\n",
       "    <tr style=\"text-align: right;\">\n",
       "      <th></th>\n",
       "      <th>Name</th>\n",
       "      <th>Position Title</th>\n",
       "      <th>Department</th>\n",
       "      <th>Employee Annual Salary</th>\n",
       "    </tr>\n",
       "  </thead>\n",
       "  <tbody>\n",
       "    <tr>\n",
       "      <th>0</th>\n",
       "      <td>AARON,  ELVIA J</td>\n",
       "      <td>WATER RATE TAKER</td>\n",
       "      <td>WATER MGMNT</td>\n",
       "      <td>$88967.00</td>\n",
       "    </tr>\n",
       "    <tr>\n",
       "      <th>1</th>\n",
       "      <td>AARON,  JEFFERY M</td>\n",
       "      <td>POLICE OFFICER</td>\n",
       "      <td>POLICE</td>\n",
       "      <td>$80778.00</td>\n",
       "    </tr>\n",
       "    <tr>\n",
       "      <th>2</th>\n",
       "      <td>AARON,  KARINA</td>\n",
       "      <td>POLICE OFFICER</td>\n",
       "      <td>POLICE</td>\n",
       "      <td>$80778.00</td>\n",
       "    </tr>\n",
       "    <tr>\n",
       "      <th>3</th>\n",
       "      <td>AARON,  KIMBERLEI R</td>\n",
       "      <td>CHIEF CONTRACT EXPEDITER</td>\n",
       "      <td>GENERAL SERVICES</td>\n",
       "      <td>$84780.00</td>\n",
       "    </tr>\n",
       "    <tr>\n",
       "      <th>4</th>\n",
       "      <td>ABAD JR,  VICENTE M</td>\n",
       "      <td>CIVIL ENGINEER IV</td>\n",
       "      <td>WATER MGMNT</td>\n",
       "      <td>$104736.00</td>\n",
       "    </tr>\n",
       "  </tbody>\n",
       "</table>\n",
       "</div>"
      ],
      "text/plain": [
       "                  Name            Position Title        Department  \\\n",
       "0      AARON,  ELVIA J          WATER RATE TAKER       WATER MGMNT   \n",
       "1    AARON,  JEFFERY M            POLICE OFFICER            POLICE   \n",
       "2       AARON,  KARINA            POLICE OFFICER            POLICE   \n",
       "3  AARON,  KIMBERLEI R  CHIEF CONTRACT EXPEDITER  GENERAL SERVICES   \n",
       "4  ABAD JR,  VICENTE M         CIVIL ENGINEER IV       WATER MGMNT   \n",
       "\n",
       "  Employee Annual Salary  \n",
       "0              $88967.00  \n",
       "1              $80778.00  \n",
       "2              $80778.00  \n",
       "3              $84780.00  \n",
       "4             $104736.00  "
      ]
     },
     "execution_count": 17,
     "metadata": {},
     "output_type": "execute_result"
    }
   ],
   "source": [
    "arquivo = '38-Cap06/arquivos/salarios.csv'\n",
    "df = pd.read_csv(arquivo)\n",
    "df.head() # a 'cabeça' do data frame - que são as primeiras linhas\n"
   ]
  },
  {
   "cell_type": "code",
   "execution_count": 18,
   "id": "6f958e61",
   "metadata": {},
   "outputs": [
    {
     "data": {
      "text/plain": [
       "POLICE OFFICER                            9489\n",
       "FIREFIGHTER-EMT                           1191\n",
       "SERGEANT                                  1138\n",
       "FIREFIGHTER                                970\n",
       "POLICE OFFICER (ASSIGNED AS DETECTIVE)     808\n",
       "                                          ... \n",
       "FOREMAN OF WINDOW WASHERS                    1\n",
       "SUPVSR OF INFORMATION SERVICES               1\n",
       "MANAGER OF TAX POLICY                        1\n",
       "FOREMAN OF ARCHITECTURAL IRON WORKERS        1\n",
       "MECHANICAL ENGINEER IV                       1\n",
       "Name: Position Title, Length: 1094, dtype: int64"
      ]
     },
     "execution_count": 18,
     "metadata": {},
     "output_type": "execute_result"
    }
   ],
   "source": [
    "df['Position Title'].value_counts()\n",
    "#para filtrar o data frame por uma das colunas\n",
    "#deve usar aspas simples para indiar a coluna"
   ]
  },
  {
   "cell_type": "markdown",
   "id": "f1e0f7a2",
   "metadata": {},
   "source": [
    "# Manipulando arquivos TXT\n",
    "Arquivos txt são universais e podem ser lidos em praticamente qualquer dispositivo ou SO"
   ]
  },
  {
   "cell_type": "code",
   "execution_count": 11,
   "id": "0c3261aa",
   "metadata": {
    "scrolled": true
   },
   "outputs": [
    {
     "name": "stdout",
     "output_type": "stream",
     "text": [
      "Cientista de Dados é uma excelente opção de carreira. \n",
      "Esses profissionais precisam saber como pogramar em Python.\n",
      "E, claro, devem ser proficientes em Data Science.\n",
      "Cientista de Dados é uma excelente opção de carreira. Esses profissionais precisam saber como pogramar em Python. E, claro, devem ser proficientes em Data Science. \n",
      "164\n",
      "Cientista de Dados é uma excelente opção de carreira. Esses profissionais precisam saber como pogramar em Python. E, claro, devem ser proficientes em Data Science. \n",
      "Cientista de Dados \n",
      "elente opção de carreira. \n",
      "Esses profi\n"
     ]
    }
   ],
   "source": [
    "texto = 'Cientista de Dados é uma excelente opção de carreira. \\n'\n",
    "texto = texto + 'Esses profissionais precisam saber como pogramar em Python.\\n'\n",
    "texto += 'E, claro, devem ser proficientes em Data Science.'\n",
    "# as linhas 2 e 3 fazem a mesma coisa, porém a 3 e uma maneira mais simples.\n",
    "print(texto)\n",
    "\n",
    "#importando o móduolo os - sistema operacional \n",
    "import os\n",
    "arquivo = open(os.path.join('38-Cap06/arquivos/cientista.txt'), 'w')\n",
    "#gravando dados no arquivo\n",
    "for palavra in texto.split():\n",
    "    arquivo.write(palavra + ' ')\n",
    "    #fechando o arquivo\n",
    "arquivo.close()\n",
    "\n",
    "#lendo o arquivo:\n",
    "arquivo = open('38-Cap06/arquivos/cientista.txt', 'r')\n",
    "conteudo = arquivo.read()\n",
    "arquivo.close()\n",
    "print(conteudo)\n",
    "\n",
    "#usando a expressão WITH\n",
    "# nela o método close é executado automaticamente.\n",
    "\n",
    "with open('38-Cap06/arquivos/cientista.txt', 'r') as arquivo:\n",
    "    conteudo = arquivo.read()\n",
    "print(len(conteudo)) #len é para calcular comprimento (quantidade de caracteres)\n",
    "print(conteudo)\n",
    "\n",
    "#usando with no modo escrita\n",
    "\n",
    "with open('38-Cap06/arquivos/cientista.txt', 'w') as arquivo:\n",
    "    arquivo.write(texto[:19]) #filtro os 19 primeiros caracteres iniciais\n",
    "    arquivo.write('\\n') #depois dou um espaço\n",
    "    arquivo.write(texto[28:66]) #e pego os caracteres que vão do 28 o 66\n",
    "    #e gravo tudo isso no arquivo e fecha a conexão com o arquivo\n",
    "#abrindo o arquivo para leitura\n",
    "arquivo = open('38-Cap06/arquivos/cientista.txt', 'r')\n",
    "conteudo = arquivo.read()\n",
    "arquivo.close()   #uso close pois não estou abrindo usando with\n",
    "print(conteudo)"
   ]
  },
  {
   "cell_type": "markdown",
   "id": "400aa741",
   "metadata": {},
   "source": [
    "# Manipulando Arquivos CSV\n",
    "Comma-Separated Values - Valores Separados por Vírgula"
   ]
  },
  {
   "cell_type": "code",
   "execution_count": 2,
   "id": "5f38960a",
   "metadata": {},
   "outputs": [
    {
     "name": "stdout",
     "output_type": "stream",
     "text": [
      "['nota1', 'nota2', 'nota3']\n",
      "['63', '87', '92']\n",
      "['61', '79', '76']\n",
      "['72', '64', '91']\n",
      "[['nota1', 'nota2', 'nota3'], [], ['63', '87', '92'], [], ['61', '79', '76'], [], ['72', '64', '91'], []]\n"
     ]
    }
   ],
   "source": [
    "import csv #importando o módulo csv\n",
    "with open('38-Cap06/arquivos/numeros.csv', 'w') as arquivo:\n",
    "    #cria o objeto de gravação (gravador)    writer = csv.writer(arquivo)\n",
    "    \n",
    "    #grava no arquivo linha a linha:\n",
    "    writer.writerow(('nota1', 'nota2', 'nota3'))\n",
    "    writer.writerow((63, 87, 92))\n",
    "    writer.writerow((61, 79, 76))\n",
    "    writer.writerow((72, 64, 91))\n",
    "    \n",
    "#leitura do arquivo csv\n",
    "with open('38-Cap06/arquivos/numeros.csv', 'r', encoding='utf8', newline = '\\r\\n') as arquivo: #enconding é a codificação do arquivo\n",
    "    leitor = csv.reader(arquivo)\n",
    "    for x in leitor:\n",
    "        print(x)\n",
    "#gerando uma lista com dados do arquivo csv:\n",
    "with open('38-Cap06/arquivos/numeros.csv', 'r') as arquivo:\n",
    "    leitor = csv.reader(arquivo)\n",
    "    dados = list(leitor)\n",
    "print(dados)\n"
   ]
  },
  {
   "cell_type": "markdown",
   "id": "0c7053cd",
   "metadata": {},
   "source": [
    "  #  Manipulando Arquivo JSON\n",
    "  Java Script Object Notation - usa pares de chave-valor para representar dados (semelhante aos dicionários python"
   ]
  },
  {
   "cell_type": "code",
   "execution_count": 4,
   "id": "4f88ad68",
   "metadata": {},
   "outputs": [
    {
     "name": "stdout",
     "output_type": "stream",
     "text": [
      "nome Guido Van Rossum\n",
      "linguagem Python\n",
      "similar ['c', 'Modula-3', 'lisp']\n",
      "users 1000000\n",
      "{'nome': 'Guido Van Rossum', 'linguagem': 'Python', 'similar': ['c', 'Modula-3', 'lisp'], 'users': 1000000}\n",
      "Guido Van Rossum\n"
     ]
    }
   ],
   "source": [
    "#criando um dicionário:\n",
    "dicti = {'nome': 'Guido Van Rossum',\n",
    "        'linguagem': 'Python',\n",
    "        'similar': ['c', 'Modula-3', 'lisp'],\n",
    "        'users': 1000000}\n",
    "#crio um item para percorrer os iten do dicionário:\n",
    "for k,v in dicti.items():\n",
    "    print(k,v)\n",
    "#Importando o módulo JSON \n",
    "import json\n",
    "#convertendo o dicionário para um objeto json\n",
    "json.dumps(dicti)\n",
    "print(dicti)\n",
    "#criando um arquivo json:\n",
    "with open('38-Cap06/arquivos/dados.json', 'w') as arquivo:\n",
    "    arquivo.write(json.dumps(dicti))\n",
    "\n",
    "#lendo arquivo json\n",
    "with open('38-Cap06/arquivos/dados.json', 'r') as arquivo:\n",
    "    texto = arquivo.read()\n",
    "    dados = json.loads(texto)\n",
    "dados\n",
    "print(dados['nome'])"
   ]
  },
  {
   "cell_type": "markdown",
   "id": "b48882db",
   "metadata": {},
   "source": [
    "# Extraindo arquivos da web\n",
    "http://vimeo.com/api/v2/video/57733101.json"
   ]
  },
  {
   "cell_type": "code",
   "execution_count": 7,
   "id": "1271a12b",
   "metadata": {},
   "outputs": [
    {
     "name": "stdout",
     "output_type": "stream",
     "text": [
      "Título:  The Good Man trailer\n",
      "URL:  https://vimeo.com/57733101\n",
      "Duração:  143\n",
      "Número de Visualizações:  6680\n"
     ]
    }
   ],
   "source": [
    "from urllib.request import urlopen\n",
    "response = urlopen('http://vimeo.com/api/v2/video/57733101.json').read().decode('utf8')\n",
    "dados = json.loads(response)[0]\n",
    "dados \n",
    "print('Título: ', dados['title'])\n",
    "print('URL: ', dados['url'])\n",
    "print('Duração: ', dados['duration'])\n",
    "print('Número de Visualizações: ', dados['stats_number_of_plays'])\n"
   ]
  },
  {
   "cell_type": "markdown",
   "id": "927ee681",
   "metadata": {},
   "source": [
    "Copiando o conteúdo de um arquivo para outro:"
   ]
  },
  {
   "cell_type": "code",
   "execution_count": 15,
   "id": "7d5a0527",
   "metadata": {},
   "outputs": [
    {
     "name": "stdout",
     "output_type": "stream",
     "text": [
      "{'nome': 'Guido Van Rossum', 'linguagem': 'Python', 'similar': ['c', 'Modula-3', 'lisp'], 'users': 1000000}\n"
     ]
    }
   ],
   "source": [
    " # Nome doa arquivos\n",
    "arquivo_fonte = '38-Cap06/arquivos/dados.json'\n",
    "arquivo_destino = '38-Cap06/arquivos/dados.txt'\n",
    "    \n",
    "#MÉTODO 1\n",
    "with open(arquivo_fonte, 'r') as infile:\n",
    "    text = infile.read()\n",
    "    with open(arquivo_destino, 'w') as outfile:\n",
    "        outfile.write(text)\n",
    "#MÉTODO 2\n",
    "open(arquivo_destino, 'w').write(open(arquivo_fonte, 'r').read())\n",
    "\n",
    "#LENDO O ARQUIVO TXT\n",
    "with open('38-Cap06/arquivos/dados.txt', 'r') as arquivo:\n",
    "    texto = arquivo.read()\n",
    "    dados = json.loads(texto)\n",
    "print(dados)"
   ]
  },
  {
   "cell_type": "code",
   "execution_count": null,
   "id": "892c84fb",
   "metadata": {},
   "outputs": [],
   "source": []
  }
 ],
 "metadata": {
  "kernelspec": {
   "display_name": "Python 3 (ipykernel)",
   "language": "python",
   "name": "python3"
  },
  "language_info": {
   "codemirror_mode": {
    "name": "ipython",
    "version": 3
   },
   "file_extension": ".py",
   "mimetype": "text/x-python",
   "name": "python",
   "nbconvert_exporter": "python",
   "pygments_lexer": "ipython3",
   "version": "3.9.13"
  }
 },
 "nbformat": 4,
 "nbformat_minor": 5
}
