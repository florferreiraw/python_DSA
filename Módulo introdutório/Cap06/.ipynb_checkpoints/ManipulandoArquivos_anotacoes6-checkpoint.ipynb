{
 "cells": [
  {
   "cell_type": "markdown",
   "id": "644feef2",
   "metadata": {},
   "source": [
    "# Manipulação de Arquivos"
   ]
  },
  {
   "cell_type": "code",
   "execution_count": null,
   "id": "9bb49412",
   "metadata": {},
   "outputs": [],
   "source": [
    "#abrindo arquivo para leitura:\n",
    "arq1 = open('38-Cap06/arquivos/arquivo1.txt', 'r') \n",
    "# open -> abrir //// r -> read (ler)\n",
    "#eu estou abrindo esse arquivo para leitura e gravando o seu conteúdo em uma variável chamada arq1\n",
    "\n",
    "#lendo o arquivo:\n",
    "print(arq1.read())\n",
    "#o objetivo desse método é imprimir o conteúdo do arquivo que foi armazenado na memória\n",
    "\n",
    "#contando o número de caracteres\n",
    "print(arq1.tell())\n",
    "#esse método conta os caracteres do arquivo\n",
    "\n",
    "#retornar para ó início do arquivo (pois quando você chama o arquivo para leitura, a linguagem leva o cursor para o final do arquivo)\n",
    "#retornando\n",
    "print(arq1.seek(0,0)) #seek -> procurar\n",
    "#desse modo, o cursor retorna para o início - indicado pelas coordenadas 0,0.\n",
    "\n",
    "#lendo o primeiros 23 caracteres:\n",
    "print(arq1.read(23))\n",
    "#o cursor irá parar no 23° caractere, logo, se tentar executar novamente:\n",
    "print(arq1.read())\n",
    "#irá imprimir os caracteres que estão a partir do 23°"
   ]
  },
  {
   "cell_type": "markdown",
   "id": "ef7a29d4",
   "metadata": {},
   "source": [
    "# Gravando Arquivos"
   ]
  },
  {
   "cell_type": "code",
   "execution_count": null,
   "id": "681fc14e",
   "metadata": {},
   "outputs": [],
   "source": [
    "#abrindo arquivo para gravação:\n",
    "arq2 = open('38-Cap06/arquivos/arquivo2.txt', 'w') # w -> write (escrita) \n",
    "#se esse arquivo não estiver no caminho indicado, ele será criado, se ele já existir, irá subescrever \n",
    "#como abrimos esse arquivo SOMENTE para gravação, não podemos abri-lo para leitura:\n",
    "# print(arq2.read()) -----> ESSE COMANDO TRARÁ UMA MENSAGEM DE ERR0: not readable\n",
    "#mas eu também posso abrir para leitura e escrita (juntos)\n",
    "\n",
    "#Gravando arquivo\n",
    "arq2.write(\"Aprendendo a programar em python.\")\n",
    "arq2.close() #close serve para fechar o arquivo. close --> fechar\n",
    "\n",
    "#lendo o arquivo gravado:\n",
    "arq2 = open('38-Cap06/arquivos/arquivo2.txt', 'r') #tou armazenando esse arquivo na variável\n",
    "#logo, imprimo o conteúdo do arquivo que foi armazenado na variável:\n",
    "print(arq2.read())\n",
    "\n",
    "# acresentando conteúdo ao arquivo:\n",
    "arq2 = open('38-Cap06/arquivos/arquivo2.txt', 'a') #a = append --> acresentar\n",
    "arq2.write(' A metodologia de ensino utilizada nesse curso, facilita o aprendizado.'')\n",
    "arq2.close()\n",
    "arq2 = open('38-Cap06/arquivos/arquivo2.txt', 'r')\n",
    "print(arq2.read())\n",
    "\n",
    "#retornando para o início do arquivo:\n",
    "print(arq2.seek(0,0))\n",
    "\n"
   ]
  },
  {
   "cell_type": "markdown",
   "id": "8aeb86ad",
   "metadata": {},
   "source": [
    "# Abrindo Dataset em Linha Única"
   ]
  },
  {
   "cell_type": "code",
   "execution_count": null,
   "id": "555e2a5b",
   "metadata": {},
   "outputs": [],
   "source": [
    "f = open('38-Cap06/arquivos/salarios.csv', 'r')\n",
    "data = f.read()\n",
    "rows = data.split('\\n')  #split --> dividir\n",
    "#quando encontrar enter, o arquivo será dividido, e gurdado em rows\n",
    "print(rows)\n",
    "\n",
    "#Dividindo o arquivo em colunas \n",
    "f = open('38-Cap06/arquivos/salarios.csv', 'r')\n",
    "data = f.read()\n",
    "rows = data.split('\\n')\n",
    "full_data = []\n",
    "for row in rows:\n",
    "    split_row = row.split(',')\n",
    "    full_data.append(split_row)\n",
    "print(full_data)\n",
    "    "
   ]
  },
  {
   "cell_type": "markdown",
   "id": "3a9f0626",
   "metadata": {},
   "source": [
    "# Contando as Linhas de um Arquivo"
   ]
  },
  {
   "cell_type": "code",
   "execution_count": 4,
   "id": "0fcd5187",
   "metadata": {},
   "outputs": [
    {
     "name": "stdout",
     "output_type": "stream",
     "text": [
      "32184 linhas\n"
     ]
    }
   ],
   "source": [
    "f = open('38-Cap06/arquivos/salarios.csv', 'r')\n",
    "data = f.read()\n",
    "rows = data.split('\\n')\n",
    "full_data = []\n",
    "for row in rows:\n",
    "    split_row = row.split(',')\n",
    "    full_data.append(split_row)\n",
    "count = 0\n",
    "for row in full_data:\n",
    "    count += 1 #equivalente a: count = count +1\n",
    "print(count, 'linhas') \n",
    "    "
   ]
  },
  {
   "cell_type": "markdown",
   "id": "065e1c53",
   "metadata": {},
   "source": [
    "# Contando as Colunas de um Arquivo"
   ]
  },
  {
   "cell_type": "code",
   "execution_count": 7,
   "id": "e2f69f46",
   "metadata": {},
   "outputs": [
    {
     "name": "stdout",
     "output_type": "stream",
     "text": [
      "4\n"
     ]
    }
   ],
   "source": [
    "f = open('38-Cap06/arquivos/salarios.csv', 'r')\n",
    "data = f.read()\n",
    "rows = data.split('\\n')\n",
    "full_data = []\n",
    "for row in rows:\n",
    "    split_row = row.split(',')\n",
    "    full_data.append(split_row)\n",
    "    first_row = full_data[0] # índice da primeira linha, pois a indexação em pytho começa por 0\n",
    "count = 0\n",
    "for column in first_row:\n",
    "    count = count + 1\n",
    "    \n",
    "#outra possível forma de solucionar:\n",
    "# for column in full_data[0]:\n",
    "#      count = count + 1\n",
    "       \n",
    "print(count)"
   ]
  },
  {
   "cell_type": "markdown",
   "id": "a2a4b3a8",
   "metadata": {},
   "source": [
    "# Importando um Dataset com Panda\n",
    "O Pandas é uma biblioteca de código aberto para análise de dados em Python. Ela fornece estruturas de dados de alto desempenho e fáceis de usar, além de ferramentas de análise de dados. O nome \"Pandas\" é derivado de \"Panel Data\" (dados em painel), que é um termo econômico para conjuntos de dados multidimensionais."
   ]
  },
  {
   "cell_type": "code",
   "execution_count": 11,
   "id": "6adb3c16",
   "metadata": {},
   "outputs": [],
   "source": [
    "import pandas as pd"
   ]
  },
  {
   "cell_type": "code",
   "execution_count": 17,
   "id": "395d74b8",
   "metadata": {},
   "outputs": [
    {
     "data": {
      "text/html": [
       "<div>\n",
       "<style scoped>\n",
       "    .dataframe tbody tr th:only-of-type {\n",
       "        vertical-align: middle;\n",
       "    }\n",
       "\n",
       "    .dataframe tbody tr th {\n",
       "        vertical-align: top;\n",
       "    }\n",
       "\n",
       "    .dataframe thead th {\n",
       "        text-align: right;\n",
       "    }\n",
       "</style>\n",
       "<table border=\"1\" class=\"dataframe\">\n",
       "  <thead>\n",
       "    <tr style=\"text-align: right;\">\n",
       "      <th></th>\n",
       "      <th>Name</th>\n",
       "      <th>Position Title</th>\n",
       "      <th>Department</th>\n",
       "      <th>Employee Annual Salary</th>\n",
       "    </tr>\n",
       "  </thead>\n",
       "  <tbody>\n",
       "    <tr>\n",
       "      <th>0</th>\n",
       "      <td>AARON,  ELVIA J</td>\n",
       "      <td>WATER RATE TAKER</td>\n",
       "      <td>WATER MGMNT</td>\n",
       "      <td>$88967.00</td>\n",
       "    </tr>\n",
       "    <tr>\n",
       "      <th>1</th>\n",
       "      <td>AARON,  JEFFERY M</td>\n",
       "      <td>POLICE OFFICER</td>\n",
       "      <td>POLICE</td>\n",
       "      <td>$80778.00</td>\n",
       "    </tr>\n",
       "    <tr>\n",
       "      <th>2</th>\n",
       "      <td>AARON,  KARINA</td>\n",
       "      <td>POLICE OFFICER</td>\n",
       "      <td>POLICE</td>\n",
       "      <td>$80778.00</td>\n",
       "    </tr>\n",
       "    <tr>\n",
       "      <th>3</th>\n",
       "      <td>AARON,  KIMBERLEI R</td>\n",
       "      <td>CHIEF CONTRACT EXPEDITER</td>\n",
       "      <td>GENERAL SERVICES</td>\n",
       "      <td>$84780.00</td>\n",
       "    </tr>\n",
       "    <tr>\n",
       "      <th>4</th>\n",
       "      <td>ABAD JR,  VICENTE M</td>\n",
       "      <td>CIVIL ENGINEER IV</td>\n",
       "      <td>WATER MGMNT</td>\n",
       "      <td>$104736.00</td>\n",
       "    </tr>\n",
       "  </tbody>\n",
       "</table>\n",
       "</div>"
      ],
      "text/plain": [
       "                  Name            Position Title        Department  \\\n",
       "0      AARON,  ELVIA J          WATER RATE TAKER       WATER MGMNT   \n",
       "1    AARON,  JEFFERY M            POLICE OFFICER            POLICE   \n",
       "2       AARON,  KARINA            POLICE OFFICER            POLICE   \n",
       "3  AARON,  KIMBERLEI R  CHIEF CONTRACT EXPEDITER  GENERAL SERVICES   \n",
       "4  ABAD JR,  VICENTE M         CIVIL ENGINEER IV       WATER MGMNT   \n",
       "\n",
       "  Employee Annual Salary  \n",
       "0              $88967.00  \n",
       "1              $80778.00  \n",
       "2              $80778.00  \n",
       "3              $84780.00  \n",
       "4             $104736.00  "
      ]
     },
     "execution_count": 17,
     "metadata": {},
     "output_type": "execute_result"
    }
   ],
   "source": [
    "arquivo = '38-Cap06/arquivos/salarios.csv'\n",
    "df = pd.read_csv(arquivo)\n",
    "df.head() # a 'cabeça' do data frame - que são as primeiras linhas\n"
   ]
  },
  {
   "cell_type": "code",
   "execution_count": 18,
   "id": "6f958e61",
   "metadata": {},
   "outputs": [
    {
     "data": {
      "text/plain": [
       "POLICE OFFICER                            9489\n",
       "FIREFIGHTER-EMT                           1191\n",
       "SERGEANT                                  1138\n",
       "FIREFIGHTER                                970\n",
       "POLICE OFFICER (ASSIGNED AS DETECTIVE)     808\n",
       "                                          ... \n",
       "FOREMAN OF WINDOW WASHERS                    1\n",
       "SUPVSR OF INFORMATION SERVICES               1\n",
       "MANAGER OF TAX POLICY                        1\n",
       "FOREMAN OF ARCHITECTURAL IRON WORKERS        1\n",
       "MECHANICAL ENGINEER IV                       1\n",
       "Name: Position Title, Length: 1094, dtype: int64"
      ]
     },
     "execution_count": 18,
     "metadata": {},
     "output_type": "execute_result"
    }
   ],
   "source": [
    "df['Position Title'].value_counts()\n",
    "#para filtrar o data frame por uma das colunas\n",
    "#deve usar aspas simples para indiar a coluna"
   ]
  },
  {
   "cell_type": "code",
   "execution_count": null,
   "id": "6d8ef0a8",
   "metadata": {},
   "outputs": [],
   "source": []
  }
 ],
 "metadata": {
  "kernelspec": {
   "display_name": "Python 3 (ipykernel)",
   "language": "python",
   "name": "python3"
  },
  "language_info": {
   "codemirror_mode": {
    "name": "ipython",
    "version": 3
   },
   "file_extension": ".py",
   "mimetype": "text/x-python",
   "name": "python",
   "nbconvert_exporter": "python",
   "pygments_lexer": "ipython3",
   "version": "3.9.13"
  }
 },
 "nbformat": 4,
 "nbformat_minor": 5
}
