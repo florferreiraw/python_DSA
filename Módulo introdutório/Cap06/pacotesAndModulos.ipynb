{
 "cells": [
  {
   "cell_type": "markdown",
   "id": "c0bd0848",
   "metadata": {},
   "source": [
    "MÓDULOS E PACOTES:\n",
    "Em Python, Módulo é um arquivo (script) que contém código Python e pode ser importado em outros arquivos Python. Ele é usado para compartilhar funções, classes e variáveis entre grupos.\n",
    "Já um pacote é uma coleção de módulos organizados e uma estrutura de diretórios. Ele permite a divisão de um aplicativo em múltiplos módulos, o que facilita a manutenção e o desenvolvimento.\n",
    "REPOSITÓRIOS DE PACOTES DA LINGUAGEM PYTHON: https://pypi.org/"
   ]
  }
 ],
 "metadata": {
  "kernelspec": {
   "display_name": "Python 3 (ipykernel)",
   "language": "python",
   "name": "python3"
  },
  "language_info": {
   "codemirror_mode": {
    "name": "ipython",
    "version": 3
   },
   "file_extension": ".py",
   "mimetype": "text/x-python",
   "name": "python",
   "nbconvert_exporter": "python",
   "pygments_lexer": "ipython3",
   "version": "3.9.13"
  }
 },
 "nbformat": 4,
 "nbformat_minor": 5
}
