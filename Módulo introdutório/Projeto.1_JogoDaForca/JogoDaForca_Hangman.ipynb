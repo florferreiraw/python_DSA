{
 "cells": [
  {
   "cell_type": "code",
   "execution_count": null,
   "id": "7c448265",
   "metadata": {},
   "outputs": [
    {
     "name": "stdout",
     "output_type": "stream",
     "text": [
      "************************************\n",
      "**                                **\n",
      "** Bem-Vindo(a) ao jogo da forca! **\n",
      "**                                **\n",
      "************************************\n",
      "Adivinhe a palavra abaixo:\n",
      "\n",
      "_ _ _ _ _ _\n",
      "\n",
      "Chances restantes: 9\n",
      "Letras erradas: \n"
     ]
    }
   ],
   "source": [
    "import random\n",
    "from os import system, name\n",
    "\n",
    "def limpa_tela():\n",
    "    if name == 'nt':  # nome interno do windows\n",
    "        _ = system('cls')  # usei '_' pois system retorna algo, e como eu não quero esse retorno, eu armezeno em variável\n",
    "    else:\n",
    "        _ = system('clear')\n",
    "\n",
    "# FUNÇÃO\n",
    "def game():\n",
    "    limpa_tela()\n",
    "    print('************************************')\n",
    "    print('**                                **')\n",
    "    print('** Bem-Vindo(a) ao jogo da forca! **')\n",
    "    print('**                                **')\n",
    "    print('************************************')\n",
    "\n",
    "    print('Adivinhe a palavra abaixo:\\n')\n",
    "    palavras = ['banana', 'abacate', 'uva', 'morango', 'laranja', 'pêra', 'melancia']\n",
    "    # escolho randomicamente uma palavra:\n",
    "    palavra = random.choice(palavras)\n",
    "    letras_descobertas = ['_' for letra in palavra]  # list comprehension\n",
    "    # NÚMERO DE CHANCES\n",
    "    chances = 9\n",
    "    # LISTAR LETRAS ERRADAS\n",
    "    letras_erradas = []\n",
    "    while chances > 0:\n",
    "        print(' '.join(letras_descobertas))\n",
    "        print('\\nChances restantes:', chances)\n",
    "        print('Letras erradas:', ' '.join(letras_erradas))\n",
    "        tentativa = input('\\nDigite uma letra: ').lower()  # converto o input do usuário para minúsculo\n",
    "        if tentativa in palavra:\n",
    "            index = 0\n",
    "            for letra in palavra:\n",
    "                if tentativa == letra:\n",
    "                    letras_descobertas[index] = letra\n",
    "                index += 1\n",
    "        else:\n",
    "            chances -= 1\n",
    "            letras_erradas.append(tentativa)\n",
    "        # condicional\n",
    "        if '_' not in letras_descobertas:\n",
    "            print('\\nVocê venceu, a palavra era:', palavra)\n",
    "            break\n",
    "    if '_' in letras_descobertas:\n",
    "        print('\\nVocê perdeu, a palavra era:', palavra)\n",
    "\n",
    "# bloco main\n",
    "if __name__ == '__main__':\n",
    "    game()\n"
   ]
  },
  {
   "cell_type": "code",
   "execution_count": 1,
   "id": "21b43c33",
   "metadata": {},
   "outputs": [],
   "source": []
  },
  {
   "cell_type": "code",
   "execution_count": null,
   "id": "69204b33",
   "metadata": {},
   "outputs": [],
   "source": []
  }
 ],
 "metadata": {
  "kernelspec": {
   "display_name": "Python 3 (ipykernel)",
   "language": "python",
   "name": "python3"
  },
  "language_info": {
   "codemirror_mode": {
    "name": "ipython",
    "version": 3
   },
   "file_extension": ".py",
   "mimetype": "text/x-python",
   "name": "python",
   "nbconvert_exporter": "python",
   "pygments_lexer": "ipython3",
   "version": "3.9.13"
  }
 },
 "nbformat": 4,
 "nbformat_minor": 5
}
