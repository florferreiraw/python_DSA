{
 "cells": [
  {
   "cell_type": "code",
   "execution_count": null,
   "id": "34feede3",
   "metadata": {},
   "outputs": [],
   "source": [
    "# Exercício 1 - Imprima na tela os números de 1 a 10. Use uma lista para armazenar os números.\n",
    "lista1 = [1, 2, 3, 4, 5, 6, 7, 8, 9, 10]\n",
    "#posso mostrar essa lista na tela de duas maneiras diferentes\n",
    "print(lista1)\n",
    "#ou\n",
    "lista1"
   ]
  },
  {
   "cell_type": "code",
   "execution_count": null,
   "id": "5f4e564f",
   "metadata": {},
   "outputs": [],
   "source": [
    "# Exercício 2 - Crie uma lista de 5 objetos e imprima na tela\n",
    "lista2 = ['bolsa, caderno, lápis, caneta, borracha']\n",
    "print(lista2)\n",
    "lista2"
   ]
  },
  {
   "cell_type": "code",
   "execution_count": 2,
   "id": "58ff0873",
   "metadata": {},
   "outputs": [
    {
     "name": "stdout",
     "output_type": "stream",
     "text": [
      "Digite o seu nome:lorena\n",
      "Digite o seu sobrenomeferreura\n",
      "lorena ferreura\n",
      "l \n",
      " ferreura lorena\n",
      "lorena  ferreura\n",
      "lorena ferreuralorena ferreuralorena ferreura\n",
      "ww\n",
      "lorena ferreura\n"
     ]
    }
   ],
   "source": [
    "# Exercício 3 - Crie duas strings e concatene as duas em uma terceira string\n",
    "nome = input('Digite o seu nome:')\n",
    "sobrenome = input('Digite o seu sobrenome')\n",
    "fullname = nome + ' ' + sobrenome\n",
    "print(fullname)\n",
    "#ou\n",
    "fullname\n",
    "#são duas maneiras de imprimir na tela o valor da variável e questão\n",
    "\n",
    "\n",
    "#Brincando com indexação de strings\n",
    "n = fullname \n",
    "#primeiro elemento da string:\n",
    "n[0]\n",
    "#sétimo elemento da string:\n",
    "n[6]\n",
    "print(n[0]+n[6])\n",
    "#tudo a partir do índice 6:\n",
    "aPartir = n[6:]\n",
    "#tudo antes do índice 6:\n",
    "antes = n[:6]\n",
    "\n",
    "conc = aPartir + ' ' + antes\n",
    "cnoc = antes + ' ' + aPartir\n",
    "\n",
    "print(conc)\n",
    "print(cnoc)\n",
    "\n",
    "#concatenando string\n",
    "n + ' é uma pessoa muito amada'\n",
    "\n",
    "#usando operadores aritméticos com strings \n",
    "mult1 = n * 3\n",
    "print(mult1)\n",
    "\n",
    "novaSt = 'w'\n",
    "mult2 = novaSt * 2\n",
    "print(mult2)\n",
    "\n",
    "#minha string permanece intacta, mesmo após fazer indexações:\n",
    "print(n)\n"
   ]
  },
  {
   "cell_type": "code",
   "execution_count": null,
   "id": "52a6cbbe",
   "metadata": {},
   "outputs": [],
   "source": []
  },
  {
   "cell_type": "code",
   "execution_count": null,
   "id": "43854d8f",
   "metadata": {},
   "outputs": [],
   "source": []
  }
 ],
 "metadata": {
  "celltoolbar": "Raw Cell Format",
  "kernelspec": {
   "display_name": "Python 3 (ipykernel)",
   "language": "python",
   "name": "python3"
  },
  "language_info": {
   "codemirror_mode": {
    "name": "ipython",
    "version": 3
   },
   "file_extension": ".py",
   "mimetype": "text/x-python",
   "name": "python",
   "nbconvert_exporter": "python",
   "pygments_lexer": "ipython3",
   "version": "3.9.13"
  }
 },
 "nbformat": 4,
 "nbformat_minor": 5
}
